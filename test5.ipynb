{
  "nbformat": 4,
  "nbformat_minor": 0,
  "metadata": {
    "colab": {
      "name": "test5.ipynb",
      "provenance": [],
      "collapsed_sections": [],
      "include_colab_link": true
    },
    "kernelspec": {
      "name": "python3",
      "display_name": "Python 3"
    },
    "accelerator": "TPU"
  },
  "cells": [
    {
      "cell_type": "markdown",
      "metadata": {
        "id": "view-in-github",
        "colab_type": "text"
      },
      "source": [
        "<a href=\"https://colab.research.google.com/github/eunicedai/ChineseAI/blob/master/test5.ipynb\" target=\"_parent\"><img src=\"https://colab.research.google.com/assets/colab-badge.svg\" alt=\"Open In Colab\"/></a>"
      ]
    },
    {
      "cell_type": "code",
      "metadata": {
        "id": "QdmOBsSEWfMn",
        "colab_type": "code",
        "colab": {}
      },
      "source": [
        "!wget https://repo.anaconda.com/archive/Anaconda3-5.2.0-Linux-x86_64.sh && bash Anaconda3-5.2.0-Linux-x86_64.sh -bfp /usr/local"
      ],
      "execution_count": 0,
      "outputs": []
    },
    {
      "cell_type": "code",
      "metadata": {
        "id": "ZyAjVOgfWrib",
        "colab_type": "code",
        "colab": {}
      },
      "source": [
        "import sys\n",
        "sys.path.append('/usr/local/lib/python3.6/site-packages')"
      ],
      "execution_count": 0,
      "outputs": []
    },
    {
      "cell_type": "code",
      "metadata": {
        "id": "oUWVHiB-WvLh",
        "colab_type": "code",
        "colab": {}
      },
      "source": [
        "import warnings\n",
        "warnings.filterwarnings('ignore')"
      ],
      "execution_count": 0,
      "outputs": []
    },
    {
      "cell_type": "code",
      "metadata": {
        "id": "bD6-xqQNWxHJ",
        "colab_type": "code",
        "colab": {}
      },
      "source": [
        "import pandas as pd\n",
        "import numpy as np\n",
        "import random as rnd\n",
        "\n",
        "# visualization\n",
        "import seaborn as sns\n",
        "import matplotlib.pyplot as plt\n",
        "%matplotlib inline"
      ],
      "execution_count": 0,
      "outputs": []
    },
    {
      "cell_type": "code",
      "metadata": {
        "id": "MP39IVYZW0YV",
        "colab_type": "code",
        "outputId": "8b202649-656d-4f99-d8f8-14171396327a",
        "colab": {
          "base_uri": "https://localhost:8080/",
          "height": 122
        }
      },
      "source": [
        "from google.colab import drive \n",
        "drive.mount('/content/gdrive')"
      ],
      "execution_count": 0,
      "outputs": [
        {
          "output_type": "stream",
          "text": [
            "Go to this URL in a browser: https://accounts.google.com/o/oauth2/auth?client_id=947318989803-6bn6qk8qdgf4n4g3pfee6491hc0brc4i.apps.googleusercontent.com&redirect_uri=urn%3aietf%3awg%3aoauth%3a2.0%3aoob&response_type=code&scope=email%20https%3a%2f%2fwww.googleapis.com%2fauth%2fdocs.test%20https%3a%2f%2fwww.googleapis.com%2fauth%2fdrive%20https%3a%2f%2fwww.googleapis.com%2fauth%2fdrive.photos.readonly%20https%3a%2f%2fwww.googleapis.com%2fauth%2fpeopleapi.readonly\n",
            "\n",
            "Enter your authorization code:\n",
            "··········\n",
            "Mounted at /content/gdrive\n"
          ],
          "name": "stdout"
        }
      ]
    },
    {
      "cell_type": "markdown",
      "metadata": {
        "id": "MdA5L59YcDXA",
        "colab_type": "text"
      },
      "source": [
        "#### **Step 1:**<br>\n",
        " **Data explore and Data processing**"
      ]
    },
    {
      "cell_type": "code",
      "metadata": {
        "id": "Yhe709l6XTFO",
        "colab_type": "code",
        "colab": {}
      },
      "source": [
        "test_df = pd.read_csv('gdrive/Shared drives/ISE529/NY taxi/data/test.csv', parse_dates = ['pickup_datetime'])"
      ],
      "execution_count": 0,
      "outputs": []
    },
    {
      "cell_type": "code",
      "metadata": {
        "id": "T0Sl-EqkXfox",
        "colab_type": "code",
        "colab": {}
      },
      "source": [
        "train_df = pd.read_csv('gdrive/Shared drives/ISE529/NY taxi/data/train.csv', \n",
        "                       nrows = 5_000_000, parse_dates = ['pickup_datetime']).drop(columns = 'key')"
      ],
      "execution_count": 0,
      "outputs": []
    },
    {
      "cell_type": "code",
      "metadata": {
        "id": "fJDx0cn8z9L0",
        "colab_type": "code",
        "outputId": "8a695ad8-f8a8-467d-8e99-a1b98c297118",
        "colab": {
          "base_uri": "https://localhost:8080/",
          "height": 329
        }
      },
      "source": [
        "train_df.head()"
      ],
      "execution_count": 0,
      "outputs": [
        {
          "output_type": "execute_result",
          "data": {
            "text/html": [
              "<div>\n",
              "<style scoped>\n",
              "    .dataframe tbody tr th:only-of-type {\n",
              "        vertical-align: middle;\n",
              "    }\n",
              "\n",
              "    .dataframe tbody tr th {\n",
              "        vertical-align: top;\n",
              "    }\n",
              "\n",
              "    .dataframe thead th {\n",
              "        text-align: right;\n",
              "    }\n",
              "</style>\n",
              "<table border=\"1\" class=\"dataframe\">\n",
              "  <thead>\n",
              "    <tr style=\"text-align: right;\">\n",
              "      <th></th>\n",
              "      <th>fare_amount</th>\n",
              "      <th>pickup_datetime</th>\n",
              "      <th>pickup_longitude</th>\n",
              "      <th>pickup_latitude</th>\n",
              "      <th>dropoff_longitude</th>\n",
              "      <th>dropoff_latitude</th>\n",
              "      <th>passenger_count</th>\n",
              "    </tr>\n",
              "  </thead>\n",
              "  <tbody>\n",
              "    <tr>\n",
              "      <th>0</th>\n",
              "      <td>4.5</td>\n",
              "      <td>2009-06-15 17:26:21+00:00</td>\n",
              "      <td>-73.844311</td>\n",
              "      <td>40.721319</td>\n",
              "      <td>-73.841610</td>\n",
              "      <td>40.712278</td>\n",
              "      <td>1</td>\n",
              "    </tr>\n",
              "    <tr>\n",
              "      <th>1</th>\n",
              "      <td>16.9</td>\n",
              "      <td>2010-01-05 16:52:16+00:00</td>\n",
              "      <td>-74.016048</td>\n",
              "      <td>40.711303</td>\n",
              "      <td>-73.979268</td>\n",
              "      <td>40.782004</td>\n",
              "      <td>1</td>\n",
              "    </tr>\n",
              "    <tr>\n",
              "      <th>2</th>\n",
              "      <td>5.7</td>\n",
              "      <td>2011-08-18 00:35:00+00:00</td>\n",
              "      <td>-73.982738</td>\n",
              "      <td>40.761270</td>\n",
              "      <td>-73.991242</td>\n",
              "      <td>40.750562</td>\n",
              "      <td>2</td>\n",
              "    </tr>\n",
              "    <tr>\n",
              "      <th>3</th>\n",
              "      <td>7.7</td>\n",
              "      <td>2012-04-21 04:30:42+00:00</td>\n",
              "      <td>-73.987130</td>\n",
              "      <td>40.733143</td>\n",
              "      <td>-73.991567</td>\n",
              "      <td>40.758092</td>\n",
              "      <td>1</td>\n",
              "    </tr>\n",
              "    <tr>\n",
              "      <th>4</th>\n",
              "      <td>5.3</td>\n",
              "      <td>2010-03-09 07:51:00+00:00</td>\n",
              "      <td>-73.968095</td>\n",
              "      <td>40.768008</td>\n",
              "      <td>-73.956655</td>\n",
              "      <td>40.783762</td>\n",
              "      <td>1</td>\n",
              "    </tr>\n",
              "  </tbody>\n",
              "</table>\n",
              "</div>"
            ],
            "text/plain": [
              "   fare_amount           pickup_datetime  ...  dropoff_latitude  passenger_count\n",
              "0          4.5 2009-06-15 17:26:21+00:00  ...         40.712278                1\n",
              "1         16.9 2010-01-05 16:52:16+00:00  ...         40.782004                1\n",
              "2          5.7 2011-08-18 00:35:00+00:00  ...         40.750562                2\n",
              "3          7.7 2012-04-21 04:30:42+00:00  ...         40.758092                1\n",
              "4          5.3 2010-03-09 07:51:00+00:00  ...         40.783762                1\n",
              "\n",
              "[5 rows x 7 columns]"
            ]
          },
          "metadata": {
            "tags": []
          },
          "execution_count": 16
        }
      ]
    },
    {
      "cell_type": "code",
      "metadata": {
        "id": "Sx1AbG-G0G7m",
        "colab_type": "code",
        "outputId": "9815027b-b963-43bd-dcd4-5950a24c50b3",
        "colab": {
          "base_uri": "https://localhost:8080/",
          "height": 153
        }
      },
      "source": [
        "test_df.dtypes"
      ],
      "execution_count": 0,
      "outputs": [
        {
          "output_type": "execute_result",
          "data": {
            "text/plain": [
              "key                               object\n",
              "pickup_datetime      datetime64[ns, UTC]\n",
              "pickup_longitude                 float64\n",
              "pickup_latitude                  float64\n",
              "dropoff_longitude                float64\n",
              "dropoff_latitude                 float64\n",
              "passenger_count                    int64\n",
              "dtype: object"
            ]
          },
          "metadata": {
            "tags": []
          },
          "execution_count": 17
        }
      ]
    },
    {
      "cell_type": "code",
      "metadata": {
        "id": "1qr1rLW-0HJW",
        "colab_type": "code",
        "outputId": "34e1d4e3-4076-4456-b9f1-c17a4fcdb828",
        "colab": {
          "base_uri": "https://localhost:8080/",
          "height": 153
        }
      },
      "source": [
        "train_df.dtypes"
      ],
      "execution_count": 0,
      "outputs": [
        {
          "output_type": "execute_result",
          "data": {
            "text/plain": [
              "fare_amount                      float64\n",
              "pickup_datetime      datetime64[ns, UTC]\n",
              "pickup_longitude                 float64\n",
              "pickup_latitude                  float64\n",
              "dropoff_longitude                float64\n",
              "dropoff_latitude                 float64\n",
              "passenger_count                    int64\n",
              "dtype: object"
            ]
          },
          "metadata": {
            "tags": []
          },
          "execution_count": 8
        }
      ]
    },
    {
      "cell_type": "code",
      "metadata": {
        "id": "GavbhoMa0HWC",
        "colab_type": "code",
        "outputId": "68993d3e-e60f-4344-9369-eccb7869bea6",
        "colab": {
          "base_uri": "https://localhost:8080/",
          "height": 206
        }
      },
      "source": [
        "corr = train_df.corr()\n",
        "corr.style.background_gradient().set_precision(2)"
      ],
      "execution_count": 0,
      "outputs": [
        {
          "output_type": "execute_result",
          "data": {
            "text/html": [
              "<style  type=\"text/css\" >\n",
              "    #T_eaa16414_1aae_11ea_a81c_0242ac1c0002row0_col0 {\n",
              "            background-color:  #023858;\n",
              "            color:  #f1f1f1;\n",
              "        }    #T_eaa16414_1aae_11ea_a81c_0242ac1c0002row0_col1 {\n",
              "            background-color:  #acc0dd;\n",
              "            color:  #000000;\n",
              "        }    #T_eaa16414_1aae_11ea_a81c_0242ac1c0002row0_col2 {\n",
              "            background-color:  #adc1dd;\n",
              "            color:  #000000;\n",
              "        }    #T_eaa16414_1aae_11ea_a81c_0242ac1c0002row0_col3 {\n",
              "            background-color:  #abbfdc;\n",
              "            color:  #000000;\n",
              "        }    #T_eaa16414_1aae_11ea_a81c_0242ac1c0002row0_col4 {\n",
              "            background-color:  #b5c4df;\n",
              "            color:  #000000;\n",
              "        }    #T_eaa16414_1aae_11ea_a81c_0242ac1c0002row0_col5 {\n",
              "            background-color:  #fdf5fa;\n",
              "            color:  #000000;\n",
              "        }    #T_eaa16414_1aae_11ea_a81c_0242ac1c0002row1_col0 {\n",
              "            background-color:  #fdf5fa;\n",
              "            color:  #000000;\n",
              "        }    #T_eaa16414_1aae_11ea_a81c_0242ac1c0002row1_col1 {\n",
              "            background-color:  #023858;\n",
              "            color:  #f1f1f1;\n",
              "        }    #T_eaa16414_1aae_11ea_a81c_0242ac1c0002row1_col2 {\n",
              "            background-color:  #fef6fb;\n",
              "            color:  #000000;\n",
              "        }    #T_eaa16414_1aae_11ea_a81c_0242ac1c0002row1_col3 {\n",
              "            background-color:  #04649e;\n",
              "            color:  #f1f1f1;\n",
              "        }    #T_eaa16414_1aae_11ea_a81c_0242ac1c0002row1_col4 {\n",
              "            background-color:  #fff7fb;\n",
              "            color:  #000000;\n",
              "        }    #T_eaa16414_1aae_11ea_a81c_0242ac1c0002row1_col5 {\n",
              "            background-color:  #fff7fb;\n",
              "            color:  #000000;\n",
              "        }    #T_eaa16414_1aae_11ea_a81c_0242ac1c0002row2_col0 {\n",
              "            background-color:  #fff7fb;\n",
              "            color:  #000000;\n",
              "        }    #T_eaa16414_1aae_11ea_a81c_0242ac1c0002row2_col1 {\n",
              "            background-color:  #fff7fb;\n",
              "            color:  #000000;\n",
              "        }    #T_eaa16414_1aae_11ea_a81c_0242ac1c0002row2_col2 {\n",
              "            background-color:  #023858;\n",
              "            color:  #f1f1f1;\n",
              "        }    #T_eaa16414_1aae_11ea_a81c_0242ac1c0002row2_col3 {\n",
              "            background-color:  #fff7fb;\n",
              "            color:  #000000;\n",
              "        }    #T_eaa16414_1aae_11ea_a81c_0242ac1c0002row2_col4 {\n",
              "            background-color:  #187cb6;\n",
              "            color:  #000000;\n",
              "        }    #T_eaa16414_1aae_11ea_a81c_0242ac1c0002row2_col5 {\n",
              "            background-color:  #fff7fb;\n",
              "            color:  #000000;\n",
              "        }    #T_eaa16414_1aae_11ea_a81c_0242ac1c0002row3_col0 {\n",
              "            background-color:  #fdf5fa;\n",
              "            color:  #000000;\n",
              "        }    #T_eaa16414_1aae_11ea_a81c_0242ac1c0002row3_col1 {\n",
              "            background-color:  #04649e;\n",
              "            color:  #f1f1f1;\n",
              "        }    #T_eaa16414_1aae_11ea_a81c_0242ac1c0002row3_col2 {\n",
              "            background-color:  #fff7fb;\n",
              "            color:  #000000;\n",
              "        }    #T_eaa16414_1aae_11ea_a81c_0242ac1c0002row3_col3 {\n",
              "            background-color:  #023858;\n",
              "            color:  #f1f1f1;\n",
              "        }    #T_eaa16414_1aae_11ea_a81c_0242ac1c0002row3_col4 {\n",
              "            background-color:  #fbf4f9;\n",
              "            color:  #000000;\n",
              "        }    #T_eaa16414_1aae_11ea_a81c_0242ac1c0002row3_col5 {\n",
              "            background-color:  #fff7fb;\n",
              "            color:  #000000;\n",
              "        }    #T_eaa16414_1aae_11ea_a81c_0242ac1c0002row4_col0 {\n",
              "            background-color:  #fff7fb;\n",
              "            color:  #000000;\n",
              "        }    #T_eaa16414_1aae_11ea_a81c_0242ac1c0002row4_col1 {\n",
              "            background-color:  #fbf4f9;\n",
              "            color:  #000000;\n",
              "        }    #T_eaa16414_1aae_11ea_a81c_0242ac1c0002row4_col2 {\n",
              "            background-color:  #1379b5;\n",
              "            color:  #f1f1f1;\n",
              "        }    #T_eaa16414_1aae_11ea_a81c_0242ac1c0002row4_col3 {\n",
              "            background-color:  #f7f0f7;\n",
              "            color:  #000000;\n",
              "        }    #T_eaa16414_1aae_11ea_a81c_0242ac1c0002row4_col4 {\n",
              "            background-color:  #023858;\n",
              "            color:  #f1f1f1;\n",
              "        }    #T_eaa16414_1aae_11ea_a81c_0242ac1c0002row4_col5 {\n",
              "            background-color:  #fff7fb;\n",
              "            color:  #000000;\n",
              "        }    #T_eaa16414_1aae_11ea_a81c_0242ac1c0002row5_col0 {\n",
              "            background-color:  #fdf5fa;\n",
              "            color:  #000000;\n",
              "        }    #T_eaa16414_1aae_11ea_a81c_0242ac1c0002row5_col1 {\n",
              "            background-color:  #adc1dd;\n",
              "            color:  #000000;\n",
              "        }    #T_eaa16414_1aae_11ea_a81c_0242ac1c0002row5_col2 {\n",
              "            background-color:  #acc0dd;\n",
              "            color:  #000000;\n",
              "        }    #T_eaa16414_1aae_11ea_a81c_0242ac1c0002row5_col3 {\n",
              "            background-color:  #acc0dd;\n",
              "            color:  #000000;\n",
              "        }    #T_eaa16414_1aae_11ea_a81c_0242ac1c0002row5_col4 {\n",
              "            background-color:  #b4c4df;\n",
              "            color:  #000000;\n",
              "        }    #T_eaa16414_1aae_11ea_a81c_0242ac1c0002row5_col5 {\n",
              "            background-color:  #023858;\n",
              "            color:  #f1f1f1;\n",
              "        }</style><table id=\"T_eaa16414_1aae_11ea_a81c_0242ac1c0002\" ><thead>    <tr>        <th class=\"blank level0\" ></th>        <th class=\"col_heading level0 col0\" >fare_amount</th>        <th class=\"col_heading level0 col1\" >pickup_longitude</th>        <th class=\"col_heading level0 col2\" >pickup_latitude</th>        <th class=\"col_heading level0 col3\" >dropoff_longitude</th>        <th class=\"col_heading level0 col4\" >dropoff_latitude</th>        <th class=\"col_heading level0 col5\" >passenger_count</th>    </tr></thead><tbody>\n",
              "                <tr>\n",
              "                        <th id=\"T_eaa16414_1aae_11ea_a81c_0242ac1c0002level0_row0\" class=\"row_heading level0 row0\" >fare_amount</th>\n",
              "                        <td id=\"T_eaa16414_1aae_11ea_a81c_0242ac1c0002row0_col0\" class=\"data row0 col0\" >1</td>\n",
              "                        <td id=\"T_eaa16414_1aae_11ea_a81c_0242ac1c0002row0_col1\" class=\"data row0 col1\" >0.0086</td>\n",
              "                        <td id=\"T_eaa16414_1aae_11ea_a81c_0242ac1c0002row0_col2\" class=\"data row0 col2\" >-0.0067</td>\n",
              "                        <td id=\"T_eaa16414_1aae_11ea_a81c_0242ac1c0002row0_col3\" class=\"data row0 col3\" >0.0093</td>\n",
              "                        <td id=\"T_eaa16414_1aae_11ea_a81c_0242ac1c0002row0_col4\" class=\"data row0 col4\" >-0.0067</td>\n",
              "                        <td id=\"T_eaa16414_1aae_11ea_a81c_0242ac1c0002row0_col5\" class=\"data row0 col5\" >0.013</td>\n",
              "            </tr>\n",
              "            <tr>\n",
              "                        <th id=\"T_eaa16414_1aae_11ea_a81c_0242ac1c0002level0_row1\" class=\"row_heading level0 row1\" >pickup_longitude</th>\n",
              "                        <td id=\"T_eaa16414_1aae_11ea_a81c_0242ac1c0002row1_col0\" class=\"data row1 col0\" >0.0086</td>\n",
              "                        <td id=\"T_eaa16414_1aae_11ea_a81c_0242ac1c0002row1_col1\" class=\"data row1 col1\" >1</td>\n",
              "                        <td id=\"T_eaa16414_1aae_11ea_a81c_0242ac1c0002row1_col2\" class=\"data row1 col2\" >-0.55</td>\n",
              "                        <td id=\"T_eaa16414_1aae_11ea_a81c_0242ac1c0002row1_col3\" class=\"data row1 col3\" >0.71</td>\n",
              "                        <td id=\"T_eaa16414_1aae_11ea_a81c_0242ac1c0002row1_col4\" class=\"data row1 col4\" >-0.51</td>\n",
              "                        <td id=\"T_eaa16414_1aae_11ea_a81c_0242ac1c0002row1_col5\" class=\"data row1 col5\" >0.00095</td>\n",
              "            </tr>\n",
              "            <tr>\n",
              "                        <th id=\"T_eaa16414_1aae_11ea_a81c_0242ac1c0002level0_row2\" class=\"row_heading level0 row2\" >pickup_latitude</th>\n",
              "                        <td id=\"T_eaa16414_1aae_11ea_a81c_0242ac1c0002row2_col0\" class=\"data row2 col0\" >-0.0067</td>\n",
              "                        <td id=\"T_eaa16414_1aae_11ea_a81c_0242ac1c0002row2_col1\" class=\"data row2 col1\" >-0.55</td>\n",
              "                        <td id=\"T_eaa16414_1aae_11ea_a81c_0242ac1c0002row2_col2\" class=\"data row2 col2\" >1</td>\n",
              "                        <td id=\"T_eaa16414_1aae_11ea_a81c_0242ac1c0002row2_col3\" class=\"data row2 col3\" >-0.56</td>\n",
              "                        <td id=\"T_eaa16414_1aae_11ea_a81c_0242ac1c0002row2_col4\" class=\"data row2 col4\" >0.55</td>\n",
              "                        <td id=\"T_eaa16414_1aae_11ea_a81c_0242ac1c0002row2_col5\" class=\"data row2 col5\" >-0.0018</td>\n",
              "            </tr>\n",
              "            <tr>\n",
              "                        <th id=\"T_eaa16414_1aae_11ea_a81c_0242ac1c0002level0_row3\" class=\"row_heading level0 row3\" >dropoff_longitude</th>\n",
              "                        <td id=\"T_eaa16414_1aae_11ea_a81c_0242ac1c0002row3_col0\" class=\"data row3 col0\" >0.0093</td>\n",
              "                        <td id=\"T_eaa16414_1aae_11ea_a81c_0242ac1c0002row3_col1\" class=\"data row3 col1\" >0.71</td>\n",
              "                        <td id=\"T_eaa16414_1aae_11ea_a81c_0242ac1c0002row3_col2\" class=\"data row3 col2\" >-0.56</td>\n",
              "                        <td id=\"T_eaa16414_1aae_11ea_a81c_0242ac1c0002row3_col3\" class=\"data row3 col3\" >1</td>\n",
              "                        <td id=\"T_eaa16414_1aae_11ea_a81c_0242ac1c0002row3_col4\" class=\"data row3 col4\" >-0.47</td>\n",
              "                        <td id=\"T_eaa16414_1aae_11ea_a81c_0242ac1c0002row3_col5\" class=\"data row3 col5\" >0.00011</td>\n",
              "            </tr>\n",
              "            <tr>\n",
              "                        <th id=\"T_eaa16414_1aae_11ea_a81c_0242ac1c0002level0_row4\" class=\"row_heading level0 row4\" >dropoff_latitude</th>\n",
              "                        <td id=\"T_eaa16414_1aae_11ea_a81c_0242ac1c0002row4_col0\" class=\"data row4 col0\" >-0.0067</td>\n",
              "                        <td id=\"T_eaa16414_1aae_11ea_a81c_0242ac1c0002row4_col1\" class=\"data row4 col1\" >-0.51</td>\n",
              "                        <td id=\"T_eaa16414_1aae_11ea_a81c_0242ac1c0002row4_col2\" class=\"data row4 col2\" >0.55</td>\n",
              "                        <td id=\"T_eaa16414_1aae_11ea_a81c_0242ac1c0002row4_col3\" class=\"data row4 col3\" >-0.47</td>\n",
              "                        <td id=\"T_eaa16414_1aae_11ea_a81c_0242ac1c0002row4_col4\" class=\"data row4 col4\" >1</td>\n",
              "                        <td id=\"T_eaa16414_1aae_11ea_a81c_0242ac1c0002row4_col5\" class=\"data row4 col5\" >-0.0015</td>\n",
              "            </tr>\n",
              "            <tr>\n",
              "                        <th id=\"T_eaa16414_1aae_11ea_a81c_0242ac1c0002level0_row5\" class=\"row_heading level0 row5\" >passenger_count</th>\n",
              "                        <td id=\"T_eaa16414_1aae_11ea_a81c_0242ac1c0002row5_col0\" class=\"data row5 col0\" >0.013</td>\n",
              "                        <td id=\"T_eaa16414_1aae_11ea_a81c_0242ac1c0002row5_col1\" class=\"data row5 col1\" >0.00095</td>\n",
              "                        <td id=\"T_eaa16414_1aae_11ea_a81c_0242ac1c0002row5_col2\" class=\"data row5 col2\" >-0.0018</td>\n",
              "                        <td id=\"T_eaa16414_1aae_11ea_a81c_0242ac1c0002row5_col3\" class=\"data row5 col3\" >0.00011</td>\n",
              "                        <td id=\"T_eaa16414_1aae_11ea_a81c_0242ac1c0002row5_col4\" class=\"data row5 col4\" >-0.0015</td>\n",
              "                        <td id=\"T_eaa16414_1aae_11ea_a81c_0242ac1c0002row5_col5\" class=\"data row5 col5\" >1</td>\n",
              "            </tr>\n",
              "    </tbody></table>"
            ],
            "text/plain": [
              "<pandas.io.formats.style.Styler at 0x7f4630bf8630>"
            ]
          },
          "metadata": {
            "tags": []
          },
          "execution_count": 19
        }
      ]
    },
    {
      "cell_type": "code",
      "metadata": {
        "id": "Er1qt7_yXh1g",
        "colab_type": "code",
        "outputId": "fb9c8742-ee30-4272-c7a5-bda8a0c255a1",
        "colab": {
          "base_uri": "https://localhost:8080/",
          "height": 517
        }
      },
      "source": [
        "train_df.describe()"
      ],
      "execution_count": 0,
      "outputs": [
        {
          "output_type": "execute_result",
          "data": {
            "text/html": [
              "<div>\n",
              "<style scoped>\n",
              "    .dataframe tbody tr th:only-of-type {\n",
              "        vertical-align: middle;\n",
              "    }\n",
              "\n",
              "    .dataframe tbody tr th {\n",
              "        vertical-align: top;\n",
              "    }\n",
              "\n",
              "    .dataframe thead th {\n",
              "        text-align: right;\n",
              "    }\n",
              "</style>\n",
              "<table border=\"1\" class=\"dataframe\">\n",
              "  <thead>\n",
              "    <tr style=\"text-align: right;\">\n",
              "      <th></th>\n",
              "      <th>fare_amount</th>\n",
              "      <th>pickup_longitude</th>\n",
              "      <th>pickup_latitude</th>\n",
              "      <th>dropoff_longitude</th>\n",
              "      <th>dropoff_latitude</th>\n",
              "      <th>passenger_count</th>\n",
              "    </tr>\n",
              "  </thead>\n",
              "  <tbody>\n",
              "    <tr>\n",
              "      <th>count</th>\n",
              "      <td>5.000000e+06</td>\n",
              "      <td>5.000000e+06</td>\n",
              "      <td>5.000000e+06</td>\n",
              "      <td>4.999964e+06</td>\n",
              "      <td>4.999964e+06</td>\n",
              "      <td>5.000000e+06</td>\n",
              "    </tr>\n",
              "    <tr>\n",
              "      <th>mean</th>\n",
              "      <td>1.134080e+01</td>\n",
              "      <td>-7.250678e+01</td>\n",
              "      <td>3.991974e+01</td>\n",
              "      <td>-7.250652e+01</td>\n",
              "      <td>3.991725e+01</td>\n",
              "      <td>1.684695e+00</td>\n",
              "    </tr>\n",
              "    <tr>\n",
              "      <th>std</th>\n",
              "      <td>9.820175e+00</td>\n",
              "      <td>1.280970e+01</td>\n",
              "      <td>8.963509e+00</td>\n",
              "      <td>1.284777e+01</td>\n",
              "      <td>9.486767e+00</td>\n",
              "      <td>1.331854e+00</td>\n",
              "    </tr>\n",
              "    <tr>\n",
              "      <th>min</th>\n",
              "      <td>-1.000000e+02</td>\n",
              "      <td>-3.426609e+03</td>\n",
              "      <td>-3.488080e+03</td>\n",
              "      <td>-3.412653e+03</td>\n",
              "      <td>-3.488080e+03</td>\n",
              "      <td>0.000000e+00</td>\n",
              "    </tr>\n",
              "    <tr>\n",
              "      <th>25%</th>\n",
              "      <td>6.000000e+00</td>\n",
              "      <td>-7.399206e+01</td>\n",
              "      <td>4.073491e+01</td>\n",
              "      <td>-7.399139e+01</td>\n",
              "      <td>4.073404e+01</td>\n",
              "      <td>1.000000e+00</td>\n",
              "    </tr>\n",
              "    <tr>\n",
              "      <th>50%</th>\n",
              "      <td>8.500000e+00</td>\n",
              "      <td>-7.398181e+01</td>\n",
              "      <td>4.075263e+01</td>\n",
              "      <td>-7.398016e+01</td>\n",
              "      <td>4.075315e+01</td>\n",
              "      <td>1.000000e+00</td>\n",
              "    </tr>\n",
              "    <tr>\n",
              "      <th>75%</th>\n",
              "      <td>1.250000e+01</td>\n",
              "      <td>-7.396711e+01</td>\n",
              "      <td>4.076712e+01</td>\n",
              "      <td>-7.396367e+01</td>\n",
              "      <td>4.076811e+01</td>\n",
              "      <td>2.000000e+00</td>\n",
              "    </tr>\n",
              "    <tr>\n",
              "      <th>max</th>\n",
              "      <td>1.273310e+03</td>\n",
              "      <td>3.439426e+03</td>\n",
              "      <td>3.310364e+03</td>\n",
              "      <td>3.457622e+03</td>\n",
              "      <td>3.345917e+03</td>\n",
              "      <td>2.080000e+02</td>\n",
              "    </tr>\n",
              "  </tbody>\n",
              "</table>\n",
              "</div>"
            ],
            "text/plain": [
              "        fare_amount  pickup_longitude  ...  dropoff_latitude  passenger_count\n",
              "count  5.000000e+06      5.000000e+06  ...      4.999964e+06     5.000000e+06\n",
              "mean   1.134080e+01     -7.250678e+01  ...      3.991725e+01     1.684695e+00\n",
              "std    9.820175e+00      1.280970e+01  ...      9.486767e+00     1.331854e+00\n",
              "min   -1.000000e+02     -3.426609e+03  ...     -3.488080e+03     0.000000e+00\n",
              "25%    6.000000e+00     -7.399206e+01  ...      4.073404e+01     1.000000e+00\n",
              "50%    8.500000e+00     -7.398181e+01  ...      4.075315e+01     1.000000e+00\n",
              "75%    1.250000e+01     -7.396711e+01  ...      4.076811e+01     2.000000e+00\n",
              "max    1.273310e+03      3.439426e+03  ...      3.345917e+03     2.080000e+02\n",
              "\n",
              "[8 rows x 6 columns]"
            ]
          },
          "metadata": {
            "tags": []
          },
          "execution_count": 15
        }
      ]
    },
    {
      "cell_type": "markdown",
      "metadata": {
        "id": "2mQm2nZSaRj1",
        "colab_type": "text"
      },
      "source": [
        "1. The minimum fare amount should not be < 0.\n",
        "2. Minimum and Maximum longitude and latitude look not in New York City.\n",
        "3. Minimum passenger count should not have 0.\n",
        "\n",
        "Solution: \n",
        "1. After google, taxi fare initial charge in new york is $2.5, so we are removing fare amount smaller than this amount.\n",
        "2. Remove 0 passenger count.\n",
        "3. New York city longitudes are around (-74.5 ~ -72.8) and latitudes are around (40.5 ~ 41.8)"
      ]
    },
    {
      "cell_type": "code",
      "metadata": {
        "id": "qovCJ7mPaSIP",
        "colab_type": "code",
        "colab": {}
      },
      "source": [
        "train_taxi = train_df[((train_df['pickup_longitude'] > -74.5) & (train_df['pickup_longitude'] < -72.8)) & \n",
        "                ((train_df['dropoff_longitude'] > -74.5) & (train_df['dropoff_longitude'] < -72.8)) & \n",
        "                ((train_df['pickup_latitude'] > 40.5) & (train_df['pickup_latitude'] < 41.8)) & \n",
        "                ((train_df['dropoff_latitude'] > 40.5) & (train_df['dropoff_latitude'] < 41.8)) & \n",
        "                (train_df['passenger_count'] > 0) & (train_df['fare_amount'] >= 2.5)]"
      ],
      "execution_count": 0,
      "outputs": []
    },
    {
      "cell_type": "code",
      "metadata": {
        "id": "PnRyXjszb5qH",
        "colab_type": "code",
        "outputId": "08842f06-4abf-4886-e03b-45fe10cba71b",
        "colab": {
          "base_uri": "https://localhost:8080/",
          "height": 357
        }
      },
      "source": [
        "train_taxi.describe()"
      ],
      "execution_count": 0,
      "outputs": [
        {
          "output_type": "execute_result",
          "data": {
            "text/html": [
              "<div>\n",
              "<style scoped>\n",
              "    .dataframe tbody tr th:only-of-type {\n",
              "        vertical-align: middle;\n",
              "    }\n",
              "\n",
              "    .dataframe tbody tr th {\n",
              "        vertical-align: top;\n",
              "    }\n",
              "\n",
              "    .dataframe thead th {\n",
              "        text-align: right;\n",
              "    }\n",
              "</style>\n",
              "<table border=\"1\" class=\"dataframe\">\n",
              "  <thead>\n",
              "    <tr style=\"text-align: right;\">\n",
              "      <th></th>\n",
              "      <th>fare_amount</th>\n",
              "      <th>pickup_longitude</th>\n",
              "      <th>pickup_latitude</th>\n",
              "      <th>dropoff_longitude</th>\n",
              "      <th>dropoff_latitude</th>\n",
              "      <th>passenger_count</th>\n",
              "    </tr>\n",
              "  </thead>\n",
              "  <tbody>\n",
              "    <tr>\n",
              "      <th>count</th>\n",
              "      <td>4.876330e+06</td>\n",
              "      <td>4.876330e+06</td>\n",
              "      <td>4.876330e+06</td>\n",
              "      <td>4.876330e+06</td>\n",
              "      <td>4.876330e+06</td>\n",
              "      <td>4.876330e+06</td>\n",
              "    </tr>\n",
              "    <tr>\n",
              "      <th>mean</th>\n",
              "      <td>1.132928e+01</td>\n",
              "      <td>-7.397514e+01</td>\n",
              "      <td>4.075108e+01</td>\n",
              "      <td>-7.397429e+01</td>\n",
              "      <td>4.075146e+01</td>\n",
              "      <td>1.690526e+00</td>\n",
              "    </tr>\n",
              "    <tr>\n",
              "      <th>std</th>\n",
              "      <td>9.698604e+00</td>\n",
              "      <td>3.853421e-02</td>\n",
              "      <td>2.957983e-02</td>\n",
              "      <td>3.767663e-02</td>\n",
              "      <td>3.277582e-02</td>\n",
              "      <td>1.314041e+00</td>\n",
              "    </tr>\n",
              "    <tr>\n",
              "      <th>min</th>\n",
              "      <td>2.500000e+00</td>\n",
              "      <td>-7.449650e+01</td>\n",
              "      <td>4.050005e+01</td>\n",
              "      <td>-7.449991e+01</td>\n",
              "      <td>4.050005e+01</td>\n",
              "      <td>1.000000e+00</td>\n",
              "    </tr>\n",
              "    <tr>\n",
              "      <th>25%</th>\n",
              "      <td>6.000000e+00</td>\n",
              "      <td>-7.399227e+01</td>\n",
              "      <td>4.073655e+01</td>\n",
              "      <td>-7.399158e+01</td>\n",
              "      <td>4.073560e+01</td>\n",
              "      <td>1.000000e+00</td>\n",
              "    </tr>\n",
              "    <tr>\n",
              "      <th>50%</th>\n",
              "      <td>8.500000e+00</td>\n",
              "      <td>-7.398210e+01</td>\n",
              "      <td>4.075335e+01</td>\n",
              "      <td>-7.398061e+01</td>\n",
              "      <td>4.075386e+01</td>\n",
              "      <td>1.000000e+00</td>\n",
              "    </tr>\n",
              "    <tr>\n",
              "      <th>75%</th>\n",
              "      <td>1.250000e+01</td>\n",
              "      <td>-7.396833e+01</td>\n",
              "      <td>4.076754e+01</td>\n",
              "      <td>-7.396535e+01</td>\n",
              "      <td>4.076841e+01</td>\n",
              "      <td>2.000000e+00</td>\n",
              "    </tr>\n",
              "    <tr>\n",
              "      <th>max</th>\n",
              "      <td>9.520000e+02</td>\n",
              "      <td>-7.281258e+01</td>\n",
              "      <td>4.169685e+01</td>\n",
              "      <td>-7.281783e+01</td>\n",
              "      <td>4.171463e+01</td>\n",
              "      <td>2.080000e+02</td>\n",
              "    </tr>\n",
              "  </tbody>\n",
              "</table>\n",
              "</div>"
            ],
            "text/plain": [
              "        fare_amount  pickup_longitude  ...  dropoff_latitude  passenger_count\n",
              "count  4.876330e+06      4.876330e+06  ...      4.876330e+06     4.876330e+06\n",
              "mean   1.132928e+01     -7.397514e+01  ...      4.075146e+01     1.690526e+00\n",
              "std    9.698604e+00      3.853421e-02  ...      3.277582e-02     1.314041e+00\n",
              "min    2.500000e+00     -7.449650e+01  ...      4.050005e+01     1.000000e+00\n",
              "25%    6.000000e+00     -7.399227e+01  ...      4.073560e+01     1.000000e+00\n",
              "50%    8.500000e+00     -7.398210e+01  ...      4.075386e+01     1.000000e+00\n",
              "75%    1.250000e+01     -7.396833e+01  ...      4.076841e+01     2.000000e+00\n",
              "max    9.520000e+02     -7.281258e+01  ...      4.171463e+01     2.080000e+02\n",
              "\n",
              "[8 rows x 6 columns]"
            ]
          },
          "metadata": {
            "tags": []
          },
          "execution_count": 23
        }
      ]
    },
    {
      "cell_type": "markdown",
      "metadata": {
        "id": "vU-CIxmTcav7",
        "colab_type": "text"
      },
      "source": [
        "**Passenger count:**"
      ]
    },
    {
      "cell_type": "code",
      "metadata": {
        "id": "2HJBkN0kcbY7",
        "colab_type": "code",
        "outputId": "7251adce-1776-4549-8207-43b04a92041e",
        "colab": {
          "base_uri": "https://localhost:8080/",
          "height": 304
        }
      },
      "source": [
        "train_taxi['passenger_count'].value_counts().plot.bar(color = 'b', edgecolor = 'k');\n",
        "plt.title('Histogram of passenger counts'); \n",
        "plt.xlabel('Passenger counts'); \n",
        "plt.ylabel('Count');"
      ],
      "execution_count": 0,
      "outputs": [
        {
          "output_type": "display_data",
          "data": {
            "image/png": "[encoded data removed]",
            "text/plain": [
              "<Figure size 432x288 with 1 Axes>"
            ]
          },
          "metadata": {
            "tags": []
          }
        }
      ]
    },
    {
      "cell_type": "markdown",
      "metadata": {
        "id": "Z8iW1tiickHR",
        "colab_type": "text"
      },
      "source": [
        "Solution:\n",
        "1. From the graph we can tell that the max passenger count is 6, so remove the passenger > 6."
      ]
    },
    {
      "cell_type": "code",
      "metadata": {
        "id": "38eNuxFHckkm",
        "colab_type": "code",
        "colab": {}
      },
      "source": [
        "taxi2 = train_taxi.loc[train_taxi['passenger_count'] <= 6]"
      ],
      "execution_count": 0,
      "outputs": []
    },
    {
      "cell_type": "markdown",
      "metadata": {
        "id": "SvfvtGfLcuQ1",
        "colab_type": "text"
      },
      "source": [
        "**Set Data_time:**"
      ]
    },
    {
      "cell_type": "code",
      "metadata": {
        "id": "ZkODFzaBcpp2",
        "colab_type": "code",
        "colab": {}
      },
      "source": [
        "taxi2['year'] = taxi2.pickup_datetime.dt.year\n",
        "taxi2['month'] = taxi2.pickup_datetime.dt.month\n",
        "taxi2['day'] = taxi2.pickup_datetime.dt.day\n",
        "taxi2['weekday'] = taxi2.pickup_datetime.dt.weekday\n",
        "taxi2['hour'] = taxi2.pickup_datetime.dt.hour"
      ],
      "execution_count": 0,
      "outputs": []
    },
    {
      "cell_type": "code",
      "metadata": {
        "id": "xh3K2Su_0rcg",
        "colab_type": "code",
        "outputId": "5aacec61-198f-4ab6-c7fe-f22e718a82ce",
        "colab": {
          "base_uri": "https://localhost:8080/",
          "height": 404
        }
      },
      "source": [
        "#year\n",
        "plt.figure(figsize=(12,6))\n",
        "plt.scatter(taxi2['year'],taxi2['fare_amount'],s=2)\n",
        "plt.title('Relationship between year and fare amount')\n",
        "plt.xlabel('year')\n",
        "plt.ylabel('fare amount')\n",
        "plt.show()"
      ],
      "execution_count": 0,
      "outputs": [
        {
          "output_type": "display_data",
          "data": {
            "image/png": "[encoded data removed]",
            "text/plain": [
              "<Figure size 864x432 with 1 Axes>"
            ]
          },
          "metadata": {
            "tags": []
          }
        }
      ]
    },
    {
      "cell_type": "code",
      "metadata": {
        "id": "D1N7iWng0rrM",
        "colab_type": "code",
        "outputId": "8a5d410e-ff46-43c0-d410-789684de703b",
        "colab": {
          "base_uri": "https://localhost:8080/",
          "height": 404
        }
      },
      "source": [
        "#month\n",
        "plt.figure(figsize=(12,6))\n",
        "plt.scatter(taxi2['month'],taxi2['fare_amount'],s=2)\n",
        "plt.title('Relationship between month and fare amount')\n",
        "plt.xlabel('month')\n",
        "plt.ylabel('fare amount')\n",
        "plt.show()"
      ],
      "execution_count": 0,
      "outputs": [
        {
          "output_type": "display_data",
          "data": {
            "image/png": "[encoded data removed]",
            "text/plain": [
              "<Figure size 864x432 with 1 Axes>"
            ]
          },
          "metadata": {
            "tags": []
          }
        }
      ]
    },
    {
      "cell_type": "code",
      "metadata": {
        "id": "R1Z2SGf60r2W",
        "colab_type": "code",
        "outputId": "51735abb-0c08-4bbd-979f-48c2033d0354",
        "colab": {
          "base_uri": "https://localhost:8080/",
          "height": 404
        }
      },
      "source": [
        "#weekday\n",
        "plt.figure(figsize=(12,6))\n",
        "plt.scatter(taxi2['weekday'],taxi2['fare_amount'],s=2)\n",
        "plt.title('Relationship between weekday and fare amount')\n",
        "plt.xlabel('weekday')\n",
        "plt.ylabel('fare amount')\n",
        "plt.show()"
      ],
      "execution_count": 0,
      "outputs": [
        {
          "output_type": "display_data",
          "data": {
            "image/png": "[encoded data removed]",
            "text/plain": [
              "<Figure size 864x432 with 1 Axes>"
            ]
          },
          "metadata": {
            "tags": []
          }
        }
      ]
    },
    {
      "cell_type": "code",
      "metadata": {
        "id": "H7DNi3ka0sE7",
        "colab_type": "code",
        "outputId": "69eb584c-60a9-4d4a-ef55-826fa5c1b71d",
        "colab": {
          "base_uri": "https://localhost:8080/",
          "height": 404
        }
      },
      "source": [
        "#day\n",
        "plt.figure(figsize=(12,6))\n",
        "plt.scatter(taxi2['day'],taxi2['fare_amount'],s=2)\n",
        "plt.title('Relationship between day and fare amount')\n",
        "plt.xlabel('day')\n",
        "plt.ylabel('fare amount')\n",
        "plt.show()"
      ],
      "execution_count": 0,
      "outputs": [
        {
          "output_type": "display_data",
          "data": {
            "image/png": "[encoded data removed]",
            "text/plain": [
              "<Figure size 864x432 with 1 Axes>"
            ]
          },
          "metadata": {
            "tags": []
          }
        }
      ]
    },
    {
      "cell_type": "code",
      "metadata": {
        "id": "vbTmPnoj0sRs",
        "colab_type": "code",
        "outputId": "494aeff2-5840-4039-a87a-dd855f203790",
        "colab": {
          "base_uri": "https://localhost:8080/",
          "height": 404
        }
      },
      "source": [
        "#hour\n",
        "plt.figure(figsize=(12,6))\n",
        "plt.scatter(taxi2['hour'],taxi2['fare_amount'],s=2)\n",
        "plt.title('Relationship between hour and fare amount')\n",
        "plt.xlabel('hour')\n",
        "plt.ylabel('fare amount')\n",
        "plt.show()"
      ],
      "execution_count": 0,
      "outputs": [
        {
          "output_type": "display_data",
          "data": {
            "image/png": "[encoded data removed]",
            "text/plain": [
              "<Figure size 864x432 with 1 Axes>"
            ]
          },
          "metadata": {
            "tags": []
          }
        }
      ]
    },
    {
      "cell_type": "code",
      "metadata": {
        "id": "ifRIFXkG0sjY",
        "colab_type": "code",
        "colab": {}
      },
      "source": [
        "aa = (-74.5, -72.8, 40.5, 41.8)\n",
        "nyc_map = plt.imread('https://aiblog.nl/download/nyc_-74.5_-72.8_40.5_41.8.png')\n",
        "\n",
        "aa_zoom = (-74.3, -73.7, 40.5, 40.9)\n",
        "nyc_map_zoom = plt.imread('https://aiblog.nl/download/nyc_-74.3_-73.7_40.5_40.9.png')"
      ],
      "execution_count": 0,
      "outputs": []
    },
    {
      "cell_type": "code",
      "metadata": {
        "id": "MFD1O_LL0-nX",
        "colab_type": "code",
        "colab": {}
      },
      "source": [
        "def plot_map(df, aa, nyc_map, s=10, alpha=0.2):\n",
        "    fig, (ax1,ax2) = plt.subplots(1, 2)\n",
        "    ax1.scatter(df.pickup_longitude, df.pickup_latitude, zorder=1, alpha=alpha, c='r', s=s)\n",
        "    ax1.set_xlim((aa[0], aa[1]))\n",
        "    ax1.set_ylim((aa[2], aa[3]))\n",
        "    ax1.set_title('Pickup locations')\n",
        "    ax1.imshow(nyc_map, zorder=0, extent=aa)\n",
        "    ax2.scatter(df.dropoff_longitude, df.dropoff_latitude, zorder=1, alpha=alpha, c='r', s=s)\n",
        "    ax2.set_xlim((aa[0], aa[1]))\n",
        "    ax2.set_ylim((aa[2], aa[3]))\n",
        "    ax2.set_title('Dropoff locations')\n",
        "    ax2.imshow(nyc_map, zorder=0, extent=aa)\n"
      ],
      "execution_count": 0,
      "outputs": []
    },
    {
      "cell_type": "code",
      "metadata": {
        "id": "Z35kocFf0-v8",
        "colab_type": "code",
        "outputId": "6b83c356-3d26-4b9b-e0c1-05f2c71aad10",
        "colab": {
          "base_uri": "https://localhost:8080/",
          "height": 180
        }
      },
      "source": [
        "\n",
        "plot_map(taxi2,aa,nyc_map,s=2,alpha=0.4)\n"
      ],
      "execution_count": 0,
      "outputs": [
        {
          "output_type": "display_data",
          "data": {
            "image/png": "[encoded data removed]",
            "text/plain": [
              "<Figure size 432x288 with 2 Axes>"
            ]
          },
          "metadata": {
            "tags": []
          }
        }
      ]
    },
    {
      "cell_type": "code",
      "metadata": {
        "id": "i1PZ_szydCl9",
        "colab_type": "code",
        "colab": {}
      },
      "source": [
        "del taxi2['pickup_datetime']"
      ],
      "execution_count": 0,
      "outputs": []
    },
    {
      "cell_type": "code",
      "metadata": {
        "id": "QJcdId0Dczci",
        "colab_type": "code",
        "outputId": "84148e7b-d0df-4ea5-828c-30834a896a32",
        "colab": {
          "base_uri": "https://localhost:8080/",
          "height": 221
        }
      },
      "source": [
        "taxi2.isnull().sum()"
      ],
      "execution_count": 0,
      "outputs": [
        {
          "output_type": "execute_result",
          "data": {
            "text/plain": [
              "fare_amount          0\n",
              "pickup_longitude     0\n",
              "pickup_latitude      0\n",
              "dropoff_longitude    0\n",
              "dropoff_latitude     0\n",
              "passenger_count      0\n",
              "year                 0\n",
              "month                0\n",
              "day                  0\n",
              "weekday              0\n",
              "hour                 0\n",
              "dtype: int64"
            ]
          },
          "metadata": {
            "tags": []
          },
          "execution_count": 35
        }
      ]
    },
    {
      "cell_type": "markdown",
      "metadata": {
        "id": "9mES3mZ6dN0G",
        "colab_type": "text"
      },
      "source": [
        "#### **Step 2:**<br>\n",
        " **Add new features**"
      ]
    },
    {
      "cell_type": "markdown",
      "metadata": {
        "id": "KwcbDlk3dbkS",
        "colab_type": "text"
      },
      "source": [
        "**1. distance:**<br> \n",
        "Getting distance between two points based on latitude and longitude using haversine formula.\n",
        "https://stackoverflow.com/questions/29545704/fast-haversine-approximation-python-pandas/29546836#29546836"
      ]
    },
    {
      "cell_type": "code",
      "metadata": {
        "id": "8-jn_vXidAOY",
        "colab_type": "code",
        "colab": {}
      },
      "source": [
        "from math import radians, cos, sin, asin, sqrt"
      ],
      "execution_count": 0,
      "outputs": []
    },
    {
      "cell_type": "code",
      "metadata": {
        "id": "2TaGGiiqdnb-",
        "colab_type": "code",
        "colab": {}
      },
      "source": [
        "def haversine(lon1, lat1, lon2, lat2):\n",
        "    \"\"\"\n",
        "    Calculate the great circle distance between two points\n",
        "    on the earth (specified in decimal degrees)\n",
        "\n",
        "    All args must be of equal length.    \n",
        "\n",
        "    \"\"\"\n",
        "    lon1, lat1, lon2, lat2 = map(np.radians, [lon1, lat1, lon2, lat2])\n",
        "\n",
        "    dlon = lon2 - lon1\n",
        "    dlat = lat2 - lat1\n",
        "\n",
        "    a = np.sin(dlat/2.0)**2 + np.cos(lat1) * np.cos(lat2) * np.sin(dlon/2.0)**2\n",
        "\n",
        "    c = 2 * np.arcsin(np.sqrt(a))\n",
        "    km = 6371 * c  # 6371 is Radius of earth in kilometers. Use 3956 for miles\n",
        "    return km\n",
        "\n",
        "taxi2['distance'] = haversine(taxi2['pickup_latitude'], taxi2['pickup_longitude'], taxi2['dropoff_latitude'] , taxi2['dropoff_longitude'])"
      ],
      "execution_count": 0,
      "outputs": []
    },
    {
      "cell_type": "code",
      "metadata": {
        "id": "_LYC1HJZdsLE",
        "colab_type": "code",
        "outputId": "984ce480-1f7f-4071-e73c-f94444b3208e",
        "colab": {
          "base_uri": "https://localhost:8080/",
          "height": 355
        }
      },
      "source": [
        "plt.figure(figsize = (14, 4))\n",
        "n, bins, patches = plt.hist(taxi2.distance, 1000, facecolor='blue', alpha=0.75)\n",
        "plt.xlabel('distance')\n",
        "plt.title('Histogram of ride distance')\n",
        "plt.show();"
      ],
      "execution_count": 0,
      "outputs": [
        {
          "output_type": "display_data",
          "data": {
            "image/png": "[encoded data removed]",
            "text/plain": [
              "<Figure size 1008x288 with 1 Axes>"
            ]
          },
          "metadata": {
            "tags": []
          }
        }
      ]
    },
    {
      "cell_type": "code",
      "metadata": {
        "id": "zmK8iiD5dxLk",
        "colab_type": "code",
        "outputId": "318a1ff7-d2dc-40ce-ff6d-78118b073059",
        "colab": {
          "base_uri": "https://localhost:8080/",
          "height": 170
        }
      },
      "source": [
        "taxi2['distance'].describe()"
      ],
      "execution_count": 0,
      "outputs": [
        {
          "output_type": "execute_result",
          "data": {
            "text/plain": [
              "count    4.876324e+06\n",
              "mean     2.705057e+00\n",
              "std      3.930991e+00\n",
              "min      0.000000e+00\n",
              "25%      8.530633e-01\n",
              "50%      1.551455e+00\n",
              "75%      2.829630e+00\n",
              "max      1.399139e+02\n",
              "Name: distance, dtype: float64"
            ]
          },
          "metadata": {
            "tags": []
          },
          "execution_count": 39
        }
      ]
    },
    {
      "cell_type": "code",
      "metadata": {
        "id": "dp8zSIQD35f_",
        "colab_type": "code",
        "outputId": "a177aa8c-9530-4cf5-fe6d-b3e273fdaad2",
        "colab": {
          "base_uri": "https://localhost:8080/",
          "height": 266
        }
      },
      "source": [
        "taxi2.groupby(['passenger_count'])['distance','fare_amount'].mean()"
      ],
      "execution_count": 0,
      "outputs": [
        {
          "output_type": "execute_result",
          "data": {
            "text/html": [
              "<div>\n",
              "<style scoped>\n",
              "    .dataframe tbody tr th:only-of-type {\n",
              "        vertical-align: middle;\n",
              "    }\n",
              "\n",
              "    .dataframe tbody tr th {\n",
              "        vertical-align: top;\n",
              "    }\n",
              "\n",
              "    .dataframe thead th {\n",
              "        text-align: right;\n",
              "    }\n",
              "</style>\n",
              "<table border=\"1\" class=\"dataframe\">\n",
              "  <thead>\n",
              "    <tr style=\"text-align: right;\">\n",
              "      <th></th>\n",
              "      <th>distance</th>\n",
              "      <th>fare_amount</th>\n",
              "    </tr>\n",
              "    <tr>\n",
              "      <th>passenger_count</th>\n",
              "      <th></th>\n",
              "      <th></th>\n",
              "    </tr>\n",
              "  </thead>\n",
              "  <tbody>\n",
              "    <tr>\n",
              "      <th>1</th>\n",
              "      <td>2.659048</td>\n",
              "      <td>11.189439</td>\n",
              "    </tr>\n",
              "    <tr>\n",
              "      <th>2</th>\n",
              "      <td>2.880164</td>\n",
              "      <td>11.802383</td>\n",
              "    </tr>\n",
              "    <tr>\n",
              "      <th>3</th>\n",
              "      <td>2.741211</td>\n",
              "      <td>11.553098</td>\n",
              "    </tr>\n",
              "    <tr>\n",
              "      <th>4</th>\n",
              "      <td>2.776115</td>\n",
              "      <td>11.761346</td>\n",
              "    </tr>\n",
              "    <tr>\n",
              "      <th>5</th>\n",
              "      <td>2.716048</td>\n",
              "      <td>11.195626</td>\n",
              "    </tr>\n",
              "    <tr>\n",
              "      <th>6</th>\n",
              "      <td>2.802337</td>\n",
              "      <td>12.142420</td>\n",
              "    </tr>\n",
              "  </tbody>\n",
              "</table>\n",
              "</div>"
            ],
            "text/plain": [
              "                 distance  fare_amount\n",
              "passenger_count                       \n",
              "1                2.659048    11.189439\n",
              "2                2.880164    11.802383\n",
              "3                2.741211    11.553098\n",
              "4                2.776115    11.761346\n",
              "5                2.716048    11.195626\n",
              "6                2.802337    12.142420"
            ]
          },
          "metadata": {
            "tags": []
          },
          "execution_count": 40
        }
      ]
    },
    {
      "cell_type": "code",
      "metadata": {
        "id": "IbkxHAb94L9q",
        "colab_type": "code",
        "outputId": "2bcc4d7c-9d08-4b87-ab60-14414efe44bc",
        "colab": {
          "base_uri": "https://localhost:8080/",
          "height": 34
        }
      },
      "source": [
        "#average usd per mile\n",
        "ave=taxi2.fare_amount.sum()/taxi2.distance.sum()\n",
        "ave"
      ],
      "execution_count": 0,
      "outputs": [
        {
          "output_type": "execute_result",
          "data": {
            "text/plain": [
              "4.188177604497326"
            ]
          },
          "metadata": {
            "tags": []
          },
          "execution_count": 41
        }
      ]
    },
    {
      "cell_type": "markdown",
      "metadata": {
        "id": "sF-Jon2kd5nJ",
        "colab_type": "text"
      },
      "source": [
        "Sol: Distance should not be 0, thus remove 0"
      ]
    },
    {
      "cell_type": "code",
      "metadata": {
        "id": "0PodXiHzd0gx",
        "colab_type": "code",
        "colab": {}
      },
      "source": [
        "taxi2 = taxi2.loc[taxi2['distance'] > 0]"
      ],
      "execution_count": 0,
      "outputs": []
    },
    {
      "cell_type": "markdown",
      "metadata": {
        "id": "MpC5bJcCgIQW",
        "colab_type": "text"
      },
      "source": [
        "**2. Hotspot coordinate:**<br>\n",
        "distance from pickup or dropoff coordinates to JFK, EWR, LGA"
      ]
    },
    {
      "cell_type": "code",
      "metadata": {
        "id": "Wx6iGfFKxQHX",
        "colab_type": "code",
        "colab": {}
      },
      "source": [
        "jfk_coord = (40.639722, -73.778889)\n",
        "ewr_coord = (40.6925, -74.168611)\n",
        "lga_coord = (40.77725, -73.872611)\n",
        "\n",
        "pickup_JFK = haversine(taxi2['pickup_latitude'], taxi2['pickup_longitude'], jfk_coord[0], jfk_coord[1]) \n",
        "dropoff_JFK = haversine(jfk_coord[0], jfk_coord[1], taxi2['dropoff_latitude'], taxi2['dropoff_longitude'])\n",
        "pickup_EWR = haversine(taxi2['pickup_latitude'], taxi2['pickup_longitude'], ewr_coord[0], ewr_coord[1]) \n",
        "dropoff_EWR = haversine(ewr_coord[0], ewr_coord[1], taxi2['dropoff_latitude'], taxi2['dropoff_longitude'])\n",
        "pickup_LGA = haversine(taxi2['pickup_latitude'], taxi2['pickup_longitude'], lga_coord[0], lga_coord[1]) \n",
        "dropoff_LGA = haversine(lga_coord[0], lga_coord[1], taxi2['dropoff_latitude'], taxi2['dropoff_longitude'])\n",
        "\n",
        "taxi2['JFK_coord'] = pd.concat([pickup_JFK, dropoff_JFK], axis=1).min(axis=1)\n",
        "taxi2['EWR_coord'] = pd.concat([pickup_EWR, dropoff_EWR], axis=1).min(axis=1)\n",
        "taxi2['LGA_coord'] = pd.concat([pickup_LGA, dropoff_LGA], axis=1).min(axis=1)"
      ],
      "execution_count": 0,
      "outputs": []
    },
    {
      "cell_type": "code",
      "metadata": {
        "id": "iJw6KhMMxXF4",
        "colab_type": "code",
        "outputId": "02d6216e-d0e4-43b0-ab52-ae19c0a17c02",
        "colab": {
          "base_uri": "https://localhost:8080/",
          "height": 264
        }
      },
      "source": [
        "taxi2.head()"
      ],
      "execution_count": 0,
      "outputs": [
        {
          "output_type": "execute_result",
          "data": {
            "text/html": [
              "<div>\n",
              "<style scoped>\n",
              "    .dataframe tbody tr th:only-of-type {\n",
              "        vertical-align: middle;\n",
              "    }\n",
              "\n",
              "    .dataframe tbody tr th {\n",
              "        vertical-align: top;\n",
              "    }\n",
              "\n",
              "    .dataframe thead th {\n",
              "        text-align: right;\n",
              "    }\n",
              "</style>\n",
              "<table border=\"1\" class=\"dataframe\">\n",
              "  <thead>\n",
              "    <tr style=\"text-align: right;\">\n",
              "      <th></th>\n",
              "      <th>fare_amount</th>\n",
              "      <th>pickup_longitude</th>\n",
              "      <th>pickup_latitude</th>\n",
              "      <th>dropoff_longitude</th>\n",
              "      <th>dropoff_latitude</th>\n",
              "      <th>passenger_count</th>\n",
              "      <th>year</th>\n",
              "      <th>month</th>\n",
              "      <th>day</th>\n",
              "      <th>weekday</th>\n",
              "      <th>hour</th>\n",
              "      <th>distance</th>\n",
              "      <th>JFK_coord</th>\n",
              "      <th>EWR_coord</th>\n",
              "      <th>LGA_coord</th>\n",
              "    </tr>\n",
              "  </thead>\n",
              "  <tbody>\n",
              "    <tr>\n",
              "      <th>0</th>\n",
              "      <td>4.5</td>\n",
              "      <td>-73.844311</td>\n",
              "      <td>40.721319</td>\n",
              "      <td>-73.841610</td>\n",
              "      <td>40.712278</td>\n",
              "      <td>1</td>\n",
              "      <td>2009</td>\n",
              "      <td>6</td>\n",
              "      <td>15</td>\n",
              "      <td>0</td>\n",
              "      <td>17</td>\n",
              "      <td>0.410442</td>\n",
              "      <td>7.328054</td>\n",
              "      <td>36.071321</td>\n",
              "      <td>3.590537</td>\n",
              "    </tr>\n",
              "    <tr>\n",
              "      <th>1</th>\n",
              "      <td>16.9</td>\n",
              "      <td>-74.016048</td>\n",
              "      <td>40.711303</td>\n",
              "      <td>-73.979268</td>\n",
              "      <td>40.782004</td>\n",
              "      <td>1</td>\n",
              "      <td>2010</td>\n",
              "      <td>1</td>\n",
              "      <td>5</td>\n",
              "      <td>1</td>\n",
              "      <td>16</td>\n",
              "      <td>4.628504</td>\n",
              "      <td>22.710042</td>\n",
              "      <td>16.973908</td>\n",
              "      <td>11.860620</td>\n",
              "    </tr>\n",
              "    <tr>\n",
              "      <th>2</th>\n",
              "      <td>5.7</td>\n",
              "      <td>-73.982738</td>\n",
              "      <td>40.761270</td>\n",
              "      <td>-73.991242</td>\n",
              "      <td>40.750562</td>\n",
              "      <td>2</td>\n",
              "      <td>2011</td>\n",
              "      <td>8</td>\n",
              "      <td>18</td>\n",
              "      <td>3</td>\n",
              "      <td>0</td>\n",
              "      <td>1.001022</td>\n",
              "      <td>22.975458</td>\n",
              "      <td>19.801877</td>\n",
              "      <td>12.255441</td>\n",
              "    </tr>\n",
              "    <tr>\n",
              "      <th>3</th>\n",
              "      <td>7.7</td>\n",
              "      <td>-73.987130</td>\n",
              "      <td>40.733143</td>\n",
              "      <td>-73.991567</td>\n",
              "      <td>40.758092</td>\n",
              "      <td>1</td>\n",
              "      <td>2012</td>\n",
              "      <td>4</td>\n",
              "      <td>21</td>\n",
              "      <td>5</td>\n",
              "      <td>4</td>\n",
              "      <td>0.910440</td>\n",
              "      <td>23.334207</td>\n",
              "      <td>19.787780</td>\n",
              "      <td>12.806098</td>\n",
              "    </tr>\n",
              "    <tr>\n",
              "      <th>4</th>\n",
              "      <td>5.3</td>\n",
              "      <td>-73.968095</td>\n",
              "      <td>40.768008</td>\n",
              "      <td>-73.956655</td>\n",
              "      <td>40.783762</td>\n",
              "      <td>1</td>\n",
              "      <td>2010</td>\n",
              "      <td>3</td>\n",
              "      <td>9</td>\n",
              "      <td>1</td>\n",
              "      <td>7</td>\n",
              "      <td>1.361021</td>\n",
              "      <td>20.261437</td>\n",
              "      <td>22.415150</td>\n",
              "      <td>9.347420</td>\n",
              "    </tr>\n",
              "  </tbody>\n",
              "</table>\n",
              "</div>"
            ],
            "text/plain": [
              "   fare_amount  pickup_longitude  ...  EWR_coord  LGA_coord\n",
              "0          4.5        -73.844311  ...  36.071321   3.590537\n",
              "1         16.9        -74.016048  ...  16.973908  11.860620\n",
              "2          5.7        -73.982738  ...  19.801877  12.255441\n",
              "3          7.7        -73.987130  ...  19.787780  12.806098\n",
              "4          5.3        -73.968095  ...  22.415150   9.347420\n",
              "\n",
              "[5 rows x 15 columns]"
            ]
          },
          "metadata": {
            "tags": []
          },
          "execution_count": 44
        }
      ]
    },
    {
      "cell_type": "markdown",
      "metadata": {
        "id": "grG26EcS0UEm",
        "colab_type": "text"
      },
      "source": [
        "#### **Step 3:**<br>\n",
        " **Tune and Do model training**"
      ]
    },
    {
      "cell_type": "code",
      "metadata": {
        "id": "MV1iLI251Gl5",
        "colab_type": "code",
        "colab": {}
      },
      "source": [
        "from sklearn.model_selection import train_test_split\n",
        "y = taxi2['fare_amount']\n",
        "X = taxi2.drop(columns=['fare_amount'])\n",
        "X_train, X_test, y_train, y_test = train_test_split(X, y, test_size=0.3, random_state=42)"
      ],
      "execution_count": 0,
      "outputs": []
    },
    {
      "cell_type": "code",
      "metadata": {
        "id": "IxapAezX1M0K",
        "colab_type": "code",
        "colab": {}
      },
      "source": [
        "from sklearn.metrics import mean_squared_error"
      ],
      "execution_count": 0,
      "outputs": []
    },
    {
      "cell_type": "markdown",
      "metadata": {
        "id": "PGa40v3x0d3d",
        "colab_type": "text"
      },
      "source": [
        "**Models**"
      ]
    },
    {
      "cell_type": "code",
      "metadata": {
        "id": "nsPfEk1Z4qIF",
        "colab_type": "code",
        "colab": {}
      },
      "source": [
        "from sklearn.model_selection import GridSearchCV"
      ],
      "execution_count": 0,
      "outputs": []
    },
    {
      "cell_type": "code",
      "metadata": {
        "id": "t1Fn12Qa4yhY",
        "colab_type": "code",
        "colab": {}
      },
      "source": [
        "# machine learning\n",
        "\n",
        "from sklearn.ensemble import RandomForestRegressor\n",
        "from sklearn.neighbors import KNeighborsRegressor\n",
        "from sklearn.tree import DecisionTreeRegressor\n",
        "from sklearn.linear_model import LinearRegression\n"
      ],
      "execution_count": 0,
      "outputs": []
    },
    {
      "cell_type": "code",
      "metadata": {
        "id": "9Cu4wP2944Py",
        "colab_type": "code",
        "colab": {}
      },
      "source": [
        "param_grid = [{'max_depth':[3, 4, 5,6,7,8]}]"
      ],
      "execution_count": 0,
      "outputs": []
    },
    {
      "cell_type": "code",
      "metadata": {
        "id": "YHJ_eQKo44ht",
        "colab_type": "code",
        "outputId": "f916ee70-fa39-4677-84ef-ed7cd7f39f53",
        "colab": {
          "base_uri": "https://localhost:8080/",
          "height": 34
        }
      },
      "source": [
        "grid_dt = GridSearchCV( DecisionTreeRegressor(random_state =1),param_grid,cv=10,return_train_score = True)\n",
        "grid_dt.fit(X_train,y_train)\n",
        "grid_dt.best_params_"
      ],
      "execution_count": 0,
      "outputs": [
        {
          "output_type": "execute_result",
          "data": {
            "text/plain": [
              "{'max_depth': 8}"
            ]
          },
          "metadata": {
            "tags": []
          },
          "execution_count": 53
        }
      ]
    },
    {
      "cell_type": "code",
      "metadata": {
        "id": "qEi7_LOK4Z3c",
        "colab_type": "code",
        "outputId": "f0e13542-c201-4b24-ca30-f4715169a0f4",
        "colab": {
          "base_uri": "https://localhost:8080/",
          "height": 102
        }
      },
      "source": [
        "# Decision Tree\n",
        "decision_tree = DecisionTreeRegressor(max_depth =8, random_state =1)\n",
        "decision_tree.fit(X_train, y_train)\n",
        "y_d = decision_tree.predict(X_test)\n",
        "decision_tree_rmse = mean_squared_error(y_test, y_d) ** 0.5"
      ],
      "execution_count": 0,
      "outputs": [
        {
          "output_type": "execute_result",
          "data": {
            "text/plain": [
              "DecisionTreeRegressor(criterion='mse', max_depth=8, max_features=None,\n",
              "                      max_leaf_nodes=None, min_impurity_decrease=0.0,\n",
              "                      min_impurity_split=None, min_samples_leaf=1,\n",
              "                      min_samples_split=2, min_weight_fraction_leaf=0.0,\n",
              "                      presort=False, random_state=1, splitter='best')"
            ]
          },
          "metadata": {
            "tags": []
          },
          "execution_count": 54
        }
      ]
    },
    {
      "cell_type": "code",
      "metadata": {
        "id": "oG0D1fxsNq_0",
        "colab_type": "code",
        "outputId": "68ae4d62-fac9-4ed5-d8f0-2b51ce92112f",
        "colab": {
          "base_uri": "https://localhost:8080/",
          "height": 34
        }
      },
      "source": [
        "decision_tree_rmse"
      ],
      "execution_count": 0,
      "outputs": [
        {
          "output_type": "execute_result",
          "data": {
            "text/plain": [
              "4.401412475249888"
            ]
          },
          "metadata": {
            "tags": []
          },
          "execution_count": 60
        }
      ]
    },
    {
      "cell_type": "code",
      "metadata": {
        "id": "pZ6FFIVl4aAv",
        "colab_type": "code",
        "colab": {}
      },
      "source": [
        "param_grid = [{'max_depth':[3, 4, 5,6,7,8]}]"
      ],
      "execution_count": 0,
      "outputs": []
    },
    {
      "cell_type": "code",
      "metadata": {
        "id": "p2apHOeS4aKk",
        "colab_type": "code",
        "outputId": "ed776bcf-2226-4f8c-a912-a0fe04294d99",
        "colab": {
          "base_uri": "https://localhost:8080/",
          "height": 34
        }
      },
      "source": [
        "grid_rf = GridSearchCV(RandomForestRegressor(random_state=1),param_grid, return_train_score = True)\n",
        "grid_rf.fit(X_train,y_train)\n",
        "grid_rf.best_params_"
      ],
      "execution_count": 0,
      "outputs": [
        {
          "output_type": "execute_result",
          "data": {
            "text/plain": [
              "{'max_depth': 8}"
            ]
          },
          "metadata": {
            "tags": []
          },
          "execution_count": 59
        }
      ]
    },
    {
      "cell_type": "code",
      "metadata": {
        "id": "F5LsxZ-e4apg",
        "colab_type": "code",
        "colab": {}
      },
      "source": [
        "# Random Forest\n",
        "random_forest = RandomForestRegressor(n_estimators=100, max_depth=8, random_state=1)\n",
        "random_forest.fit(X_train, y_train)\n",
        "y_r= random_forest.predict(X_test)\n",
        "random_forest_rmse = mean_squared_error(y_test, y_r) ** 0.5"
      ],
      "execution_count": 0,
      "outputs": []
    },
    {
      "cell_type": "code",
      "metadata": {
        "id": "uYckLud66u4y",
        "colab_type": "code",
        "outputId": "9eb59202-64e1-4923-8ad7-40479e39b301",
        "colab": {
          "base_uri": "https://localhost:8080/",
          "height": 34
        }
      },
      "source": [
        "random_forest_rmse"
      ],
      "execution_count": 0,
      "outputs": [
        {
          "output_type": "execute_result",
          "data": {
            "text/plain": [
              "4.311196839238369"
            ]
          },
          "metadata": {
            "tags": []
          },
          "execution_count": 22
        }
      ]
    },
    {
      "cell_type": "code",
      "metadata": {
        "id": "IdntWKUt4ayo",
        "colab_type": "code",
        "colab": {}
      },
      "source": [
        "param_grid = [{'n_neighbors':[2,3,4]}]"
      ],
      "execution_count": 0,
      "outputs": []
    },
    {
      "cell_type": "code",
      "metadata": {
        "colab_type": "code",
        "outputId": "a3c9565f-e1e8-49b8-b928-244e79eb1ed7",
        "id": "awLowdcvsHpv",
        "colab": {
          "base_uri": "https://localhost:8080/",
          "height": 34
        }
      },
      "source": [
        "grid_p = GridSearchCV(KNeighborsRegressor(),param_grid, return_train_score = True)\n",
        "grid_p.fit(X_train,y_train)\n",
        "grid_p.best_params_"
      ],
      "execution_count": 0,
      "outputs": [
        {
          "output_type": "execute_result",
          "data": {
            "text/plain": [
              "{'n_neighbors': 5}"
            ]
          },
          "metadata": {
            "tags": []
          },
          "execution_count": 24
        }
      ]
    },
    {
      "cell_type": "code",
      "metadata": {
        "colab_type": "code",
        "outputId": "85b37117-3e01-4e9b-8d6e-dbfbb1cb4f84",
        "id": "Z6PAUuHwsQla",
        "colab": {
          "base_uri": "https://localhost:8080/",
          "height": 34
        }
      },
      "source": [
        "# KNN\n",
        "knn = KNeighborsRegressor(n_neighbors = 5)\n",
        "knn.fit(X_train, y_train)\n",
        "y_k= knn.predict(X_test)\n",
        "knn_rmse = mean_squared_error(y_test, y_k) ** 0.5\n",
        "knn_rmse\n"
      ],
      "execution_count": 0,
      "outputs": [
        {
          "output_type": "execute_result",
          "data": {
            "text/plain": [
              "5.023844397500042"
            ]
          },
          "metadata": {
            "tags": []
          },
          "execution_count": 26
        }
      ]
    },
    {
      "cell_type": "code",
      "metadata": {
        "id": "9ziQDQdW3uK2",
        "colab_type": "code",
        "colab": {}
      },
      "source": [
        "from xgboost import XGBRegressor"
      ],
      "execution_count": 0,
      "outputs": []
    },
    {
      "cell_type": "code",
      "metadata": {
        "id": "Hi9ATp5g4aZ0",
        "colab_type": "code",
        "colab": {}
      },
      "source": [
        "param_grid = [{'learning_rate':[0.001,0.01,0.1]}]"
      ],
      "execution_count": 0,
      "outputs": []
    },
    {
      "cell_type": "code",
      "metadata": {
        "id": "ainl9IuB6el_",
        "colab_type": "code",
        "outputId": "eb002a1a-84f6-4f3a-8cbf-9bb99c655a0a",
        "colab": {
          "base_uri": "https://localhost:8080/",
          "height": 204
        }
      },
      "source": [
        "grid_xgb2 = GridSearchCV(XGBRegressor(),param_grid)\n",
        "grid_xgb2.fit(X_train,y_train)\n",
        "grid_xgb2.best_params_"
      ],
      "execution_count": 0,
      "outputs": [
        {
          "output_type": "stream",
          "text": [
            "[15:03:17] WARNING: /workspace/src/objective/regression_obj.cu:152: reg:linear is now deprecated in favor of reg:squarederror.\n",
            "[15:09:16] WARNING: /workspace/src/objective/regression_obj.cu:152: reg:linear is now deprecated in favor of reg:squarederror.\n",
            "[15:15:19] WARNING: /workspace/src/objective/regression_obj.cu:152: reg:linear is now deprecated in favor of reg:squarederror.\n",
            "[15:21:21] WARNING: /workspace/src/objective/regression_obj.cu:152: reg:linear is now deprecated in favor of reg:squarederror.\n",
            "[15:27:29] WARNING: /workspace/src/objective/regression_obj.cu:152: reg:linear is now deprecated in favor of reg:squarederror.\n",
            "[15:33:38] WARNING: /workspace/src/objective/regression_obj.cu:152: reg:linear is now deprecated in favor of reg:squarederror.\n",
            "[15:39:43] WARNING: /workspace/src/objective/regression_obj.cu:152: reg:linear is now deprecated in favor of reg:squarederror.\n",
            "[15:45:52] WARNING: /workspace/src/objective/regression_obj.cu:152: reg:linear is now deprecated in favor of reg:squarederror.\n",
            "[15:52:06] WARNING: /workspace/src/objective/regression_obj.cu:152: reg:linear is now deprecated in favor of reg:squarederror.\n",
            "[15:58:18] WARNING: /workspace/src/objective/regression_obj.cu:152: reg:linear is now deprecated in favor of reg:squarederror.\n"
          ],
          "name": "stdout"
        },
        {
          "output_type": "execute_result",
          "data": {
            "text/plain": [
              "{'learning_rate': 0.1}"
            ]
          },
          "metadata": {
            "tags": []
          },
          "execution_count": 23
        }
      ]
    },
    {
      "cell_type": "code",
      "metadata": {
        "colab_type": "code",
        "outputId": "a58bb67a-2ccf-45e0-9dc0-e070b18e8c80",
        "id": "KEvaHA91wySk",
        "colab": {
          "base_uri": "https://localhost:8080/",
          "height": 51
        }
      },
      "source": [
        "#xgbregressor\n",
        "xgb = XGBRegressor(n_estimators = 100,learning_rate = 0.1,random_state=1)\n",
        "xgb.fit(X_train,y_train)\n",
        "y_xgb= xgb.predict(X_test)\n",
        "xgb_rmse= mean_squared_error(y_test, y_xgb) ** 0.5\n",
        "xgb_rmse"
      ],
      "execution_count": 0,
      "outputs": [
        {
          "output_type": "stream",
          "text": [
            "[16:47:36] WARNING: /workspace/src/objective/regression_obj.cu:152: reg:linear is now deprecated in favor of reg:squarederror.\n"
          ],
          "name": "stdout"
        },
        {
          "output_type": "execute_result",
          "data": {
            "text/plain": [
              "4.082996940563017"
            ]
          },
          "metadata": {
            "tags": []
          },
          "execution_count": 27
        }
      ]
    },
    {
      "cell_type": "code",
      "metadata": {
        "id": "1oqlCAG0mYUZ",
        "colab_type": "code",
        "outputId": "384be5cb-19be-4f2e-e889-9398ed1b6356",
        "colab": {
          "base_uri": "https://localhost:8080/",
          "height": 34
        }
      },
      "source": [
        "# Light GBM\n",
        "import lightgbm as lgb\n",
        "\n",
        "params = {\n",
        "        'learning_rate': 0.75,\n",
        "        'application': 'regression',\n",
        "        'max_depth': 3,\n",
        "        'num_leaves': 100,\n",
        "        'verbosity': -1,\n",
        "        'metric': 'RMSE',\n",
        "    }\n",
        "train_set = lgb.Dataset(X_train, y_train, silent=True)\n",
        "lb = lgb.train(params, train_set = train_set, num_boost_round=300)\n",
        "y_pred = lb.predict(X_test, num_iteration = lb.best_iteration)\n",
        "lgb_rmse = mean_squared_error(y_test, y_pred) ** 0.5\n",
        "print(\"Test RMSE: %.3f\" % mean_squared_error(y_test, y_pred) ** 0.5)"
      ],
      "execution_count": 0,
      "outputs": [
        {
          "output_type": "stream",
          "text": [
            "Test RMSE: 3.622\n"
          ],
          "name": "stdout"
        }
      ]
    },
    {
      "cell_type": "markdown",
      "metadata": {
        "id": "eHJ8FrossufB",
        "colab_type": "text"
      },
      "source": [
        "RMSE comparison:\n",
        " KNN: 5.023; Random Forest: 4.311; XGB: 4.083; Decision Tree: 4.4014; Light GBM: 3.622"
      ]
    },
    {
      "cell_type": "markdown",
      "metadata": {
        "id": "ZVVL48mR0qJN",
        "colab_type": "text"
      },
      "source": [
        "**Use Neural Network:**"
      ]
    },
    {
      "cell_type": "code",
      "metadata": {
        "id": "1PSripANyTBc",
        "colab_type": "code",
        "outputId": "6bb6e4cf-8c1b-40fd-a2f2-94eac6707f44",
        "colab": {
          "base_uri": "https://localhost:8080/",
          "height": 34
        }
      },
      "source": [
        "from keras.models import Sequential\n",
        "from keras.layers import Dense\n",
        "from keras.wrappers.scikit_learn import KerasRegressor\n",
        "from sklearn.model_selection import cross_val_score\n",
        "from sklearn.model_selection import KFold"
      ],
      "execution_count": 0,
      "outputs": [
        {
          "output_type": "stream",
          "text": [
            "Using TensorFlow backend.\n"
          ],
          "name": "stderr"
        }
      ]
    },
    {
      "cell_type": "code",
      "metadata": {
        "id": "Txr78-2b1Vaf",
        "colab_type": "code",
        "outputId": "a88d1d1a-ab1e-4cd3-aee3-245a6b40af37",
        "colab": {
          "base_uri": "https://localhost:8080/",
          "height": 34
        }
      },
      "source": [
        "%tensorflow_version 1.x\n",
        "import tensorflow as tf\n",
        "print(tf.__version__)"
      ],
      "execution_count": 0,
      "outputs": [
        {
          "output_type": "stream",
          "text": [
            "1.15.0\n"
          ],
          "name": "stdout"
        }
      ]
    },
    {
      "cell_type": "code",
      "metadata": {
        "id": "5iHSdycy1X9t",
        "colab_type": "code",
        "colab": {}
      },
      "source": [
        "import os\n",
        "os.environ['TF_CPP_MIN_LOG_LEVEL'] = '3'\n",
        "import tensorflow as tf\n",
        "tf.compat.v1.logging.set_verbosity(tf.compat.v1.logging.ERROR)"
      ],
      "execution_count": 0,
      "outputs": []
    },
    {
      "cell_type": "code",
      "metadata": {
        "id": "b8HAIMbI1aUj",
        "colab_type": "code",
        "colab": {}
      },
      "source": [
        "from keras.callbacks import ModelCheckpoint"
      ],
      "execution_count": 0,
      "outputs": []
    },
    {
      "cell_type": "code",
      "metadata": {
        "id": "ZD7kUcQvlVf0",
        "colab_type": "code",
        "colab": {}
      },
      "source": [
        "from sklearn.preprocessing import StandardScaler\n",
        "from sklearn.pipeline import Pipeline"
      ],
      "execution_count": 0,
      "outputs": []
    },
    {
      "cell_type": "code",
      "metadata": {
        "id": "gCdYmqwMS30x",
        "colab_type": "code",
        "colab": {}
      },
      "source": [
        "from keras import backend\n",
        " \n",
        "def rmse(y_true, y_pred):\n",
        "\treturn backend.sqrt(backend.mean(backend.square(y_pred - y_true), axis=-1))"
      ],
      "execution_count": 0,
      "outputs": []
    },
    {
      "cell_type": "code",
      "metadata": {
        "id": "hT-Dqkst1ch7",
        "colab_type": "code",
        "colab": {}
      },
      "source": [
        "def baseline_model():\n",
        "    # create model\n",
        "    model = Sequential()\n",
        "    model.add(Dense(12, input_dim=14, kernel_initializer='normal', activation='relu'))\n",
        "    model.add(Dense(1, kernel_initializer='normal'))\n",
        "    # Compile model\n",
        "    model.compile(loss='mean_squared_error', optimizer='adam', metrics=[rmse])\n",
        "    return model"
      ],
      "execution_count": 0,
      "outputs": []
    },
    {
      "cell_type": "code",
      "metadata": {
        "id": "AMDocFT_1fuI",
        "colab_type": "code",
        "outputId": "ee208127-b102-46cf-887a-7f570102738c",
        "colab": {
          "base_uri": "https://localhost:8080/",
          "height": 34
        }
      },
      "source": [
        "estimator = KerasRegressor(build_fn=baseline_model, nb_epoch=100, batch_size=5, verbose=0, validation_split=0.25)\n",
        "\n",
        "filepath=\"gdrive/Shared drives/ISE529/NY taxi/data/weights.t3m1.hdf5\"\n",
        "checkpoint = ModelCheckpoint(filepath, monitor='val_rmse', save_best_only=True, mode='min', verbose=0)\n",
        "callbacks_list = [checkpoint]\n",
        "\n",
        "seed = 7\n",
        "np.random.seed(seed)\n",
        "kfold = KFold(n_splits=10, random_state=seed)\n",
        "results = cross_val_score(estimator, X.values, y.values, cv=kfold, fit_params=dict(callbacks=callbacks_list))\n",
        "print(\"Results: %.2f (%.2f) MSE\" % (results.mean(), results.std()))"
      ],
      "execution_count": 0,
      "outputs": [
        {
          "output_type": "stream",
          "text": [
            "Results: -27.65 (2.86) MSE\n"
          ],
          "name": "stdout"
        }
      ]
    },
    {
      "cell_type": "code",
      "metadata": {
        "id": "-CvmYOFO9cBl",
        "colab_type": "code",
        "outputId": "29a8a4e3-93d5-4c08-8124-eb9b5b8649ed",
        "colab": {
          "base_uri": "https://localhost:8080/",
          "height": 34
        }
      },
      "source": [
        "estimator.fit(X_train, y_train)\n",
        "y_pred = estimator.predict(X_test)\n",
        "print(\"Test RMSE: %.3f\" % mean_squared_error(y_test, y_pred) ** 0.5)"
      ],
      "execution_count": 0,
      "outputs": [
        {
          "output_type": "stream",
          "text": [
            "Test RMSE: 5.151\n"
          ],
          "name": "stdout"
        }
      ]
    },
    {
      "cell_type": "markdown",
      "metadata": {
        "id": "v7OQx6ld2pEn",
        "colab_type": "text"
      },
      "source": [
        "Try to standardize the features."
      ]
    },
    {
      "cell_type": "code",
      "metadata": {
        "id": "BwdeOFiu2cXI",
        "colab_type": "code",
        "colab": {}
      },
      "source": [
        "def baseline_model2():\n",
        "    # create model\n",
        "    model = Sequential()\n",
        "    model.add(Dense(12, input_dim=14, kernel_initializer='normal', activation='relu'))\n",
        "    model.add(Dense(1, kernel_initializer='normal'))\n",
        "    # Compile model\n",
        "    model.compile(loss='mean_squared_error', optimizer='adam', metrics=[rmse])\n",
        "    return model"
      ],
      "execution_count": 0,
      "outputs": []
    },
    {
      "cell_type": "code",
      "metadata": {
        "id": "cUz16afZ2IgR",
        "colab_type": "code",
        "outputId": "046ef531-c923-423f-e74b-e845fec7a647",
        "colab": {
          "base_uri": "https://localhost:8080/",
          "height": 34
        }
      },
      "source": [
        "from sklearn.preprocessing import StandardScaler\n",
        "from sklearn.pipeline import Pipeline\n",
        "\n",
        "seed = 7\n",
        "filepath=\"gdrive/Shared drives/ISE529/NY taxi/data/weights.t3m2.hdf5\"\n",
        "checkpoint = ModelCheckpoint(filepath, monitor='val_rmse', verbose=0, save_best_only=True, mode='min')\n",
        "callbacks_list = [checkpoint]\n",
        "# evaluate model with standardized dataset\n",
        "np.random.seed(seed)\n",
        "estimators = []\n",
        "estimators.append(('standardize', StandardScaler()))\n",
        "estimators.append(('mlp', KerasRegressor(build_fn=baseline_model2, nb_epoch=100, batch_size=5, verbose=0, validation_split=0.25)))\n",
        "pipeline = Pipeline(estimators)\n",
        "kfold = KFold(n_splits=10, random_state=seed)\n",
        "results = cross_val_score(pipeline, X, y, cv=kfold, fit_params={'mlp__callbacks':callbacks_list})\n",
        "\n",
        "print(\"Standardized: %.2f (%.2f) MSE\" % (results.mean(), results.std()))"
      ],
      "execution_count": 0,
      "outputs": [
        {
          "output_type": "stream",
          "text": [
            "Standardized: -17.25 (0.88) MSE\n"
          ],
          "name": "stdout"
        }
      ]
    },
    {
      "cell_type": "markdown",
      "metadata": {
        "id": "UvfFB5843l2I",
        "colab_type": "text"
      },
      "source": [
        "Try to add layer of model."
      ]
    },
    {
      "cell_type": "code",
      "metadata": {
        "id": "CZ5OpuJS3xoR",
        "colab_type": "code",
        "colab": {}
      },
      "source": [
        "def baseline_model3():\n",
        "    # create model\n",
        "    model = Sequential()\n",
        "    model.add(Dense(12, input_dim=14, kernel_initializer='normal', activation='relu'))\n",
        "    model.add(Dense(6, kernel_initializer='normal'))\n",
        "    model.add(Dense(1, kernel_initializer='normal'))\n",
        "    # Compile model\n",
        "    model.compile(loss='mean_squared_error', optimizer='adam', metrics=[rmse])\n",
        "    return model"
      ],
      "execution_count": 0,
      "outputs": []
    },
    {
      "cell_type": "code",
      "metadata": {
        "id": "ioCYe7TT38mH",
        "colab_type": "code",
        "colab": {}
      },
      "source": [
        "from sklearn.preprocessing import StandardScaler\n",
        "from sklearn.pipeline import Pipeline\n",
        "\n",
        "seed = 7\n",
        "\n",
        "filepath=\"gdrive/Shared drives/ISE529/NY taxi/data/weights.t3m3.hdf5\"\n",
        "checkpoint = ModelCheckpoint(filepath, monitor='val_rmse', verbose=0, save_best_only=True, mode='min')\n",
        "callbacks_list = [checkpoint]\n",
        "# evaluate model with standardized dataset\n",
        "np.random.seed(seed)\n",
        "estimators = []\n",
        "estimators.append(('standardize', StandardScaler()))\n",
        "estimators.append(('mlp', KerasRegressor(build_fn=baseline_model3, nb_epoch=100, batch_size=5, verbose=0, validation_split=0.25)))\n",
        "pipeline = Pipeline(estimators)\n",
        "kfold = KFold(n_splits=10, random_state=seed)\n",
        "results = cross_val_score(pipeline, X, y, cv=kfold, fit_params={'mlp__callbacks':callbacks_list})\n",
        "\n",
        "print(\"Standardized: %.2f (%.2f) MSE\" % (results.mean(), results.std()))"
      ],
      "execution_count": 0,
      "outputs": []
    },
    {
      "cell_type": "markdown",
      "metadata": {
        "id": "qBQm49WX6-vb",
        "colab_type": "text"
      },
      "source": [
        "Try to make expand width of model."
      ]
    },
    {
      "cell_type": "code",
      "metadata": {
        "id": "8hppoit09G-D",
        "colab_type": "code",
        "colab": {}
      },
      "source": [
        "def baseline_model4():\n",
        "    # create model\n",
        "    model = Sequential()\n",
        "    model.add(Dense(20, input_dim=14, kernel_initializer='normal', activation='relu'))\n",
        "    model.add(Dense(1, kernel_initializer='normal'))\n",
        "    # Compile model\n",
        "    model.compile(loss='mean_squared_error', optimizer='adam', metrics=[rmse])\n",
        "    return model"
      ],
      "execution_count": 0,
      "outputs": []
    },
    {
      "cell_type": "code",
      "metadata": {
        "id": "GI6fnbDr7c0J",
        "colab_type": "code",
        "outputId": "dd0cb555-833a-4d1a-b824-2abf03fa171a",
        "colab": {
          "base_uri": "https://localhost:8080/",
          "height": 34
        }
      },
      "source": [
        "from sklearn.preprocessing import StandardScaler\n",
        "from sklearn.pipeline import Pipeline\n",
        "\n",
        "seed = 7\n",
        "\n",
        "filepath=\"gdrive/Shared drives/ISE529/NY taxi/data/weights.t3m4.hdf5\"\n",
        "checkpoint = ModelCheckpoint(filepath, monitor='val_rmse', verbose=0, save_best_only=True, mode='min')\n",
        "callbacks_list = [checkpoint]\n",
        "# evaluate model with standardized dataset\n",
        "np.random.seed(seed)\n",
        "estimators = []\n",
        "estimators.append(('standardize', StandardScaler()))\n",
        "estimators.append(('mlp', KerasRegressor(build_fn=baseline_model4, nb_epoch=100, batch_size=5, verbose=0, validation_split=0.25)))\n",
        "pipeline = Pipeline(estimators)\n",
        "kfold = KFold(n_splits=10, random_state=seed)\n",
        "results = cross_val_score(pipeline, X, y, cv=kfold, fit_params={'mlp__callbacks':callbacks_list})\n",
        "\n",
        "print(\"Standardized: %.2f (%.2f) MSE\" % (results.mean(), results.std()))"
      ],
      "execution_count": 0,
      "outputs": [
        {
          "output_type": "stream",
          "text": [
            "Standardized: -16.43 (0.74) MSE\n"
          ],
          "name": "stdout"
        }
      ]
    },
    {
      "cell_type": "markdown",
      "metadata": {
        "id": "91XlYshRfyZc",
        "colab_type": "text"
      },
      "source": [
        "#### **Step 4:**<br>\n",
        " **Process test data and make prediction**"
      ]
    },
    {
      "cell_type": "code",
      "metadata": {
        "id": "sn_nJno27nlG",
        "colab_type": "code",
        "colab": {}
      },
      "source": [
        "test_df['year'] = test_df.pickup_datetime.dt.year\n",
        "test_df['month'] = test_df.pickup_datetime.dt.month\n",
        "test_df['day'] = test_df.pickup_datetime.dt.day\n",
        "test_df['weekday'] = test_df.pickup_datetime.dt.weekday\n",
        "test_df['hour'] = test_df.pickup_datetime.dt.hour"
      ],
      "execution_count": 0,
      "outputs": []
    },
    {
      "cell_type": "code",
      "metadata": {
        "id": "w7gVmL3egRDU",
        "colab_type": "code",
        "colab": {}
      },
      "source": [
        "test_df['distance'] = haversine(test_df['pickup_latitude'], test_df['pickup_longitude'], test_df['dropoff_latitude'] , test_df['dropoff_longitude'])"
      ],
      "execution_count": 0,
      "outputs": []
    },
    {
      "cell_type": "code",
      "metadata": {
        "id": "2bxmDjSIgeuT",
        "colab_type": "code",
        "colab": {}
      },
      "source": [
        "pickup_JFK = haversine(test_df['pickup_latitude'], test_df['pickup_longitude'], jfk_coord[0], jfk_coord[1]) \n",
        "dropoff_JFK = haversine(jfk_coord[0], jfk_coord[1], test_df['dropoff_latitude'], test_df['dropoff_longitude'])\n",
        "pickup_EWR = haversine(test_df['pickup_latitude'], test_df['pickup_longitude'], ewr_coord[0], ewr_coord[1]) \n",
        "dropoff_EWR = haversine(ewr_coord[0], ewr_coord[1], test_df['dropoff_latitude'], test_df['dropoff_longitude'])\n",
        "pickup_LGA = haversine(test_df['pickup_latitude'], test_df['pickup_longitude'], lga_coord[0], lga_coord[1]) \n",
        "dropoff_LGA = haversine(lga_coord[0], lga_coord[1], test_df['dropoff_latitude'], test_df['dropoff_longitude'])\n",
        "\n",
        "test_df['JFK_coord'] = pd.concat([pickup_JFK, dropoff_JFK], axis=1).min(axis=1)\n",
        "test_df['EWR_coord'] = pd.concat([pickup_EWR, dropoff_EWR], axis=1).min(axis=1)\n",
        "test_df['LGA_coord'] = pd.concat([pickup_LGA, dropoff_LGA], axis=1).min(axis=1)"
      ],
      "execution_count": 0,
      "outputs": []
    },
    {
      "cell_type": "code",
      "metadata": {
        "id": "N1pDD60og8ek",
        "colab_type": "code",
        "colab": {}
      },
      "source": [
        "del test_df['pickup_datetime']"
      ],
      "execution_count": 0,
      "outputs": []
    },
    {
      "cell_type": "code",
      "metadata": {
        "id": "OoED4T2kgw5u",
        "colab_type": "code",
        "outputId": "dd32a9a9-d819-42e9-d6e5-196ee270b8d8",
        "colab": {
          "base_uri": "https://localhost:8080/",
          "height": 309
        }
      },
      "source": [
        "test_df.head()"
      ],
      "execution_count": 0,
      "outputs": [
        {
          "output_type": "execute_result",
          "data": {
            "text/html": [
              "<div>\n",
              "<style scoped>\n",
              "    .dataframe tbody tr th:only-of-type {\n",
              "        vertical-align: middle;\n",
              "    }\n",
              "\n",
              "    .dataframe tbody tr th {\n",
              "        vertical-align: top;\n",
              "    }\n",
              "\n",
              "    .dataframe thead th {\n",
              "        text-align: right;\n",
              "    }\n",
              "</style>\n",
              "<table border=\"1\" class=\"dataframe\">\n",
              "  <thead>\n",
              "    <tr style=\"text-align: right;\">\n",
              "      <th></th>\n",
              "      <th>key</th>\n",
              "      <th>pickup_longitude</th>\n",
              "      <th>pickup_latitude</th>\n",
              "      <th>dropoff_longitude</th>\n",
              "      <th>dropoff_latitude</th>\n",
              "      <th>passenger_count</th>\n",
              "      <th>year</th>\n",
              "      <th>month</th>\n",
              "      <th>day</th>\n",
              "      <th>weekday</th>\n",
              "      <th>hour</th>\n",
              "      <th>distance</th>\n",
              "      <th>JFK_coord</th>\n",
              "      <th>EWR_coord</th>\n",
              "      <th>LGA_coord</th>\n",
              "    </tr>\n",
              "  </thead>\n",
              "  <tbody>\n",
              "    <tr>\n",
              "      <th>0</th>\n",
              "      <td>2015-01-27 13:08:24.0000002</td>\n",
              "      <td>-73.973320</td>\n",
              "      <td>40.763805</td>\n",
              "      <td>-73.981430</td>\n",
              "      <td>40.743835</td>\n",
              "      <td>1</td>\n",
              "      <td>2015</td>\n",
              "      <td>1</td>\n",
              "      <td>27</td>\n",
              "      <td>1</td>\n",
              "      <td>13</td>\n",
              "      <td>1.090365</td>\n",
              "      <td>21.956664</td>\n",
              "      <td>20.872415</td>\n",
              "      <td>11.205981</td>\n",
              "    </tr>\n",
              "    <tr>\n",
              "      <th>1</th>\n",
              "      <td>2015-01-27 13:08:24.0000003</td>\n",
              "      <td>-73.986862</td>\n",
              "      <td>40.719383</td>\n",
              "      <td>-73.998886</td>\n",
              "      <td>40.739201</td>\n",
              "      <td>1</td>\n",
              "      <td>2015</td>\n",
              "      <td>1</td>\n",
              "      <td>27</td>\n",
              "      <td>1</td>\n",
              "      <td>13</td>\n",
              "      <td>1.468609</td>\n",
              "      <td>23.255923</td>\n",
              "      <td>18.926196</td>\n",
              "      <td>12.828406</td>\n",
              "    </tr>\n",
              "    <tr>\n",
              "      <th>2</th>\n",
              "      <td>2011-10-08 11:53:44.0000002</td>\n",
              "      <td>-73.982524</td>\n",
              "      <td>40.751260</td>\n",
              "      <td>-73.979654</td>\n",
              "      <td>40.746139</td>\n",
              "      <td>1</td>\n",
              "      <td>2011</td>\n",
              "      <td>10</td>\n",
              "      <td>8</td>\n",
              "      <td>5</td>\n",
              "      <td>11</td>\n",
              "      <td>0.355718</td>\n",
              "      <td>22.564526</td>\n",
              "      <td>20.769438</td>\n",
              "      <td>11.941115</td>\n",
              "    </tr>\n",
              "    <tr>\n",
              "      <th>3</th>\n",
              "      <td>2012-12-01 21:12:12.0000002</td>\n",
              "      <td>-73.981160</td>\n",
              "      <td>40.767807</td>\n",
              "      <td>-73.990448</td>\n",
              "      <td>40.751635</td>\n",
              "      <td>1</td>\n",
              "      <td>2012</td>\n",
              "      <td>12</td>\n",
              "      <td>1</td>\n",
              "      <td>5</td>\n",
              "      <td>21</td>\n",
              "      <td>1.145748</td>\n",
              "      <td>22.836476</td>\n",
              "      <td>19.892758</td>\n",
              "      <td>12.073598</td>\n",
              "    </tr>\n",
              "    <tr>\n",
              "      <th>4</th>\n",
              "      <td>2012-12-01 21:12:12.0000003</td>\n",
              "      <td>-73.966046</td>\n",
              "      <td>40.789775</td>\n",
              "      <td>-73.988565</td>\n",
              "      <td>40.744427</td>\n",
              "      <td>1</td>\n",
              "      <td>2012</td>\n",
              "      <td>12</td>\n",
              "      <td>1</td>\n",
              "      <td>5</td>\n",
              "      <td>21</td>\n",
              "      <td>2.864812</td>\n",
              "      <td>21.320741</td>\n",
              "      <td>20.082759</td>\n",
              "      <td>10.396657</td>\n",
              "    </tr>\n",
              "  </tbody>\n",
              "</table>\n",
              "</div>"
            ],
            "text/plain": [
              "                           key  pickup_longitude  ...  EWR_coord  LGA_coord\n",
              "0  2015-01-27 13:08:24.0000002        -73.973320  ...  20.872415  11.205981\n",
              "1  2015-01-27 13:08:24.0000003        -73.986862  ...  18.926196  12.828406\n",
              "2  2011-10-08 11:53:44.0000002        -73.982524  ...  20.769438  11.941115\n",
              "3  2012-12-01 21:12:12.0000002        -73.981160  ...  19.892758  12.073598\n",
              "4  2012-12-01 21:12:12.0000003        -73.966046  ...  20.082759  10.396657\n",
              "\n",
              "[5 rows x 15 columns]"
            ]
          },
          "metadata": {
            "tags": []
          },
          "execution_count": 38
        }
      ]
    },
    {
      "cell_type": "code",
      "metadata": {
        "id": "ZZ2Dx8vfgy96",
        "colab_type": "code",
        "colab": {}
      },
      "source": [
        "def pred_model():\n",
        "    # create model\n",
        "    model = Sequential()\n",
        "    model.add(Dense(12, input_dim=14, kernel_initializer='normal', activation='relu'))\n",
        "    model.add(Dense(1, kernel_initializer='normal'))\n",
        "    model.load_weights(\"gdrive/Shared drives/ISE529/NY taxi/data/weights.t3m2.hdf5\")\n",
        "    # Compile model\n",
        "    model.compile(loss='mean_squared_error', optimizer='adam', metrics=[rmse])\n",
        "    return model"
      ],
      "execution_count": 0,
      "outputs": []
    },
    {
      "cell_type": "code",
      "metadata": {
        "id": "W1_9IoIkhiYz",
        "colab_type": "code",
        "colab": {}
      },
      "source": [
        "p_estimators = []\n",
        "p_estimators.append(('standardize', StandardScaler()))\n",
        "p_estimators.append(('mlp', KerasRegressor(build_fn=pred_model)))\n",
        "pipeline_p = Pipeline(p_estimators)"
      ],
      "execution_count": 0,
      "outputs": []
    },
    {
      "cell_type": "code",
      "metadata": {
        "id": "zeuyct4IiB2o",
        "colab_type": "code",
        "outputId": "a9af9bd7-9d9d-4505-ad6e-7d2af6901ea4",
        "colab": {
          "base_uri": "https://localhost:8080/",
          "height": 51
        }
      },
      "source": [
        "pipeline_p.fit(X, y)\n",
        "y_pred = pipeline_p.predict(test_df.drop(columns=['key']))"
      ],
      "execution_count": 0,
      "outputs": [
        {
          "output_type": "stream",
          "text": [
            "Epoch 1/1\n",
            "4824505/4824505 [==============================] - 219s 45us/step - loss: 15.8893 - rmse: 1.8418\n"
          ],
          "name": "stdout"
        }
      ]
    },
    {
      "cell_type": "code",
      "metadata": {
        "id": "DGdEvxn4nQKD",
        "colab_type": "code",
        "colab": {}
      },
      "source": [
        "y_pred = lb.predict(test_df.drop(columns=['key']), num_iteration = lb.best_iteration)"
      ],
      "execution_count": 0,
      "outputs": []
    },
    {
      "cell_type": "code",
      "metadata": {
        "id": "BkQkk7Ipiat5",
        "colab_type": "code",
        "colab": {}
      },
      "source": [
        "submission = pd.DataFrame({\n",
        "    \"key\": test_df.key,\n",
        "    \"Fare_amount\": y_pred\n",
        "})\n",
        "\n",
        "submission.to_csv('gdrive/Shared drives/ISE529/NY taxi/data/result/s2.csv', index=False)"
      ],
      "execution_count": 0,
      "outputs": []
    }
  ]
}